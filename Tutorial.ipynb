{
 "cells": [
  {
   "cell_type": "code",
   "execution_count": 1,
   "id": "ea2b474f-5789-4cd3-942f-f063174f52ad",
   "metadata": {
    "tags": []
   },
   "outputs": [
    {
     "name": "stderr",
     "output_type": "stream",
     "text": [
      "\u001b[36m\u001b[1m[ \u001b[22m\u001b[39m\u001b[36m\u001b[1mInfo: \u001b[22m\u001b[39mPrecompiling SimSpread [afa5cc60-bf5a-45b9-aa6c-27158a106b2a]\n",
      "WARNING: Method definition construct(NamedArrays.NamedArray{T, 2, AT, DT} where DT where AT where T, NamedArrays.NamedArray{T, 2, AT, DT} where DT where AT where T, AbstractArray{T, 1} where T) in module SimSpread at /home/carlos/git/SimSpread.jl/src/simspread.jl:148 overwritten at /home/carlos/git/SimSpread.jl/src/simspread.jl:296.\n",
      "  ** incremental compilation may be fatally broken for this module **\n",
      "\n"
     ]
    }
   ],
   "source": [
    "using NamedArrays, DelimitedFiles, DataFrames\n",
    "using AlgebraOfGraphics, CairoMakie\n",
    "using SimSpread"
   ]
  },
  {
   "cell_type": "code",
   "execution_count": 2,
   "id": "c2239fb4-b01c-46f9-b24c-1caca5d916c5",
   "metadata": {
    "tags": []
   },
   "outputs": [
    {
     "data": {
      "text/plain": [
       "([0.0 0.0 … 0.0 0.0; 0.0 1.0 … 0.0 0.0; … ; 0.0 1.0 … 0.0 0.0; 0.0 0.0 … 0.0 0.0], [1.0 0.7567567567567568 … 0.45 0.38461538461538464; 0.7567567567567568 1.0 … 0.4 0.3076923076923077; … ; 0.45 0.4 … 1.0 0.35185185185185186; 0.38461538461538464 0.3076923076923077 … 0.35185185185185186 1.0])"
      ]
     },
     "execution_count": 2,
     "metadata": {},
     "output_type": "execute_result"
    }
   ],
   "source": [
    "# Load dataset\n",
    "y = NamedArray(readdlm(\"../yamanishi2008/DT/nr_DT.txt\"))\n",
    "setnames!(y,[\"D$i\" for i in 1:size(y,1)],1)\n",
    "setnames!(y,[\"T$i\" for i in 1:size(y,2)],2)\n",
    "\n",
    "X = NamedArray(readdlm(\"../yamanishi2008/DD/nr_DD.maccs.txt\"))\n",
    "setnames!(X,[\"D$i\" for i in 1:size(X,1)],1)\n",
    "setnames!(X,[\"D$i\" for i in 1:size(X,2)],2)\n",
    "\n",
    "y,X"
   ]
  },
  {
   "cell_type": "code",
   "execution_count": 3,
   "id": "024cfa88-b3ef-4df3-bb43-24bebe521c5d",
   "metadata": {
    "tags": []
   },
   "outputs": [
    {
     "data": {
      "text/plain": [
       "([0.0 0.0 … 0.0 0.0; 0.0 0.0 … 0.0 0.0; … ; 0.0 0.0 … 0.0 0.0; 0.0 0.0 … 0.0 0.0], [1.0 0.6111111111111112 … 0.056818181818181816 0.05555555555555555; 0.6111111111111112 1.0 … 0.07407407407407407 0.07692307692307693; … ; 0.056818181818181816 0.07407407407407407 … 1.0 0.07142857142857142; 0.05555555555555555 0.07692307692307693 … 0.07142857142857142 1.0])"
      ]
     },
     "execution_count": 3,
     "metadata": {},
     "output_type": "execute_result"
    }
   ],
   "source": [
    "# Load dataset\n",
    "y = read_namedmatrix(\"../simspread-antifungals/data/DT/antifungals.DT.csv\", '\\t')\n",
    "#setnames!(y,[\"D$i\" for i in 1:size(y,1)],1)\n",
    "#setnames!(y,[\"T$i\" for i in 1:size(y,2)],2)\n",
    "\n",
    "X = read_namedmatrix(\"../simspread-antifungals/data/DD/antifungals.ecfp4_tanimoto.txt\", ' ')\n",
    "#setnames!(X,[\"D$i\" for i in 1:size(X,1)],1)\n",
    "#setnames!(X,[\"D$i\" for i in 1:size(X,2)],2)\n",
    "\n",
    "y,X"
   ]
  },
  {
   "cell_type": "code",
   "execution_count": 4,
   "id": "138680bc-0388-406b-925e-0f61c9576eee",
   "metadata": {
    "tags": []
   },
   "outputs": [],
   "source": [
    "# Split dataset\n",
    "test, train... = split(y, 10)\n",
    "train = vcat(train...)\n",
    "\n",
    "ytest = y[test,:]\n",
    "Xtest = X[test,train]\n",
    "ytrain = y[train,:]\n",
    "Xtrain = X[train,train];"
   ]
  },
  {
   "cell_type": "code",
   "execution_count": 5,
   "id": "ccd31ac2-dcba-4739-815f-3fc613040149",
   "metadata": {
    "tags": []
   },
   "outputs": [
    {
     "data": {
      "text/plain": [
       "([0.0 0.0 … 0.0 0.0; 0.0 1.0 … 0.0 0.0; … ; 0.0 0.0 … 0.0 0.0; 0.0 0.0 … 0.0 0.0], [0.0 0.0 … 0.0 0.0; 0.0 1.0 … 0.0 0.0; … ; 0.0 0.0 … 0.0 0.0; 0.0 0.0 … 0.0 0.0])"
      ]
     },
     "execution_count": 5,
     "metadata": {},
     "output_type": "execute_result"
    }
   ],
   "source": [
    "ytest, ytrain"
   ]
  },
  {
   "cell_type": "code",
   "execution_count": 6,
   "id": "000a2f18-76bc-4863-81ff-f84d68246f74",
   "metadata": {
    "tags": []
   },
   "outputs": [
    {
     "data": {
      "text/plain": [
       "([1.0 0.08088235294117647 … 0.09045226130653267 0.06756756756756757; 0.08088235294117647 1.0 … 0.06569343065693431 0.06097560975609756; … ; 0.09045226130653267 0.06569343065693431 … 1.0 0.04666666666666667; 0.06756756756756757 0.06097560975609756 … 0.04666666666666667 1.0], [0.0859375 0.13333333333333333 … 0.06153846153846154 0.06756756756756757; 0.029197080291970802 0.1111111111111111 … 0.04477611940298507 0.02531645569620253; … ; 0.08791208791208792 0.049586776859504134 … 0.13872832369942195 0.078125; 0.14189189189189189 0.15294117647058825 … 0.08387096774193549 0.06862745098039216])"
      ]
     },
     "execution_count": 6,
     "metadata": {},
     "output_type": "execute_result"
    }
   ],
   "source": [
    "Xtrain, Xtest"
   ]
  },
  {
   "cell_type": "code",
   "execution_count": 7,
   "id": "19a36cc7-e31f-4bb7-9340-230070167152",
   "metadata": {
    "tags": []
   },
   "outputs": [
    {
     "data": {
      "text/plain": [
       "9×86 Named Matrix{Float64}\n",
       "                                                                                               A ╲ B │   …  \n",
       "─────────────────────────────────────────────────────────────────────────────────────────────────────┼──────\n",
       "Imipramine                                                                                           │   …  \n",
       "Robenidine                                                                                           │      \n",
       "Bleomycin                                                                                            │      \n",
       "Bepridil                                                                                             │      \n",
       "Aripiprazole                                                                                         │      \n",
       "Auranofin                                                                                            │      \n",
       "Zotepine                                                                                             │      \n",
       "Amphotericin_B                                                                                       │      \n",
       "N-(1-Benzylpiperidin-4-yl)-6,7-dimethoxy-2-(4-methyl-1,4-diazepan-1-yl)quinazolin-4-amine_[BIX01294] │   …  "
      ]
     },
     "execution_count": 7,
     "metadata": {},
     "output_type": "execute_result"
    }
   ],
   "source": [
    "# Featurize description\n",
    "Xtrain′= featurize(Xtrain, 0.0, false)\n",
    "Xtest′ = featurize(Xtest, 0.0, false)"
   ]
  },
  {
   "cell_type": "code",
   "execution_count": 8,
   "id": "63db9890-2b7b-4642-b056-58b5ae879f08",
   "metadata": {
    "tags": []
   },
   "outputs": [
    {
     "data": {
      "text/plain": [
       "([0.0 0.0 … 0.0 0.0; 0.0 0.0 … 0.0 0.0; … ; 0.0 0.0 … 0.0 0.0; 0.0 0.0 … 0.0 0.0], [0.0 0.0 … 0.0 0.0; 0.0 0.0 … 0.0 0.0; … ; 0.0 0.0 … 0.0 0.0; 0.0 0.0 … 0.0 0.0])"
      ]
     },
     "execution_count": 8,
     "metadata": {},
     "output_type": "execute_result"
    }
   ],
   "source": [
    "# Construct trilayered graph\n",
    "G = construct(ytrain, ytest, Xtrain′, Xtest′)"
   ]
  },
  {
   "cell_type": "code",
   "execution_count": 9,
   "id": "962800b6-bd9b-4d44-9d59-c96276ae49ea",
   "metadata": {
    "tags": []
   },
   "outputs": [
    {
     "data": {
      "text/plain": [
       "9×14 Named Matrix{Float64}\n",
       "                                                                                               A ╲ B │   …  \n",
       "─────────────────────────────────────────────────────────────────────────────────────────────────────┼──────\n",
       "Imipramine                                                                                           │   …  \n",
       "Robenidine                                                                                           │      \n",
       "Bleomycin                                                                                            │      \n",
       "Bepridil                                                                                             │      \n",
       "Aripiprazole                                                                                         │      \n",
       "Auranofin                                                                                            │      \n",
       "Zotepine                                                                                             │      \n",
       "Amphotericin_B                                                                                       │      \n",
       "N-(1-Benzylpiperidin-4-yl)-6,7-dimethoxy-2-(4-methyl-1,4-diazepan-1-yl)quinazolin-4-amine_[BIX01294] │   …  "
      ]
     },
     "execution_count": 9,
     "metadata": {},
     "output_type": "execute_result"
    }
   ],
   "source": [
    "# Predict interactions\n",
    "yhat = predict(G, ytest)"
   ]
  },
  {
   "cell_type": "code",
   "execution_count": 10,
   "id": "dc31fa47-eee4-427e-8f57-a51603e8815c",
   "metadata": {
    "tags": []
   },
   "outputs": [
    {
     "data": {
      "text/plain": [
       "14×1 Named Matrix{Int64}\n",
       "                      A ╲ B │  1\n",
       "────────────────────────────┼───\n",
       "Aspergillus flavus          │  3\n",
       "Aspergillus fumigatus       │  8\n",
       "Aspergillus niger           │  3\n",
       "Candida albicans            │ 78\n",
       "Candida glabrata            │ 17\n",
       "Candida parapsilosis        │ 16\n",
       "Candida tropicalis          │ 13\n",
       "Cryptococcus deuterogattii  │  4\n",
       "Cryptococcus gattii         │  5\n",
       "Cryptococcus neoformans     │ 22\n",
       "Fusarium spp                │  7\n",
       "Penicillium digitatum       │  1\n",
       "Trichophyton�spp            │  5\n",
       "Zygomycetes                 │  1"
      ]
     },
     "execution_count": 10,
     "metadata": {},
     "output_type": "execute_result"
    }
   ],
   "source": [
    "trg_degree = k(y')\n",
    "setnames!(trg_degree, names(y,2), 1)\n",
    "trg_degree"
   ]
  },
  {
   "cell_type": "code",
   "execution_count": 11,
   "id": "83d19133-cae5-45bf-a3f6-3fe8c8e3262a",
   "metadata": {
    "tags": []
   },
   "outputs": [
    {
     "data": {
      "text/plain": [
       "43×13 Named Matrix{Float64}\n",
       "                                                                                 A ╲ B │   …  \n",
       "───────────────────────────────────────────────────────────────────────────────────────┼──────\n",
       "(E)-3-(4-Tert-butylphenylsulfonyl)acrylonitrile_[bay_11-7085]                          │   …  \n",
       "(E)-3-Tosylacrylonitrile_[bay_11-7082]                                                 │      \n",
       "3-(N-n-Octadecylcarbamoyloxy)-2-methoxypropyl-2-thiazolinium_ethyl_phosphate_[CV-3988] │      \n",
       "5-Fluorocytosine                                                                       │      \n",
       "Alexidine_dihydrochloride                                                              │      \n",
       "Amiodarone                                                                             │      \n",
       "Amphotericin_B                                                                         │      \n",
       "Anidulafungin                                                                          │      \n",
       "Bepridil                                                                               │      \n",
       "Butenafine                                                                             │      \n",
       "Caspofungin                                                                            │      \n",
       "⋮                                                                                          ⋱  \n",
       "Perhexiline                                                                            │      \n",
       "Posaconazole                                                                           │      \n",
       "Prochlorperazine                                                                       │      \n",
       "Ravuconazole                                                                           │      \n",
       "Robenidine                                                                             │      \n",
       "Sanguinarium_Chloride                                                                  │      \n",
       "Terbinafine                                                                            │      \n",
       "Thioridazine                                                                           │      \n",
       "Tolnaftate                                                                             │      \n",
       "Trifluoperazine                                                                        │      \n",
       "Voriconazole                                                                           │   …  "
      ]
     },
     "execution_count": 11,
     "metadata": {},
     "output_type": "execute_result"
    }
   ],
   "source": [
    "y′ = y[:, [t for t in names(y,2) if t != \"Candida albicans\"]]\n",
    "nonempty = first.(Tuple.(findall(!iszero, k(y′))))\n",
    "y′ = y′[nonempty, :]"
   ]
  },
  {
   "cell_type": "code",
   "execution_count": 12,
   "id": "88641c5d-d6a4-4635-acc8-dc9faa758296",
   "metadata": {
    "tags": []
   },
   "outputs": [
    {
     "data": {
      "text/plain": [
       "(95, 14)"
      ]
     },
     "execution_count": 12,
     "metadata": {},
     "output_type": "execute_result"
    }
   ],
   "source": [
    "size(y)"
   ]
  },
  {
   "cell_type": "code",
   "execution_count": 13,
   "id": "af60255a-285e-47b5-8662-f9742ad6bfed",
   "metadata": {
    "tags": []
   },
   "outputs": [
    {
     "name": "stdout",
     "output_type": "stream",
     "text": [
      "[0.03321123321123321 0.0; 0.07635241102983038 0.0; 0.03321123321123321 0.0; 0.7961190471660913 1.0; 0.17684894944771698 0.0; 0.16574909424673837 0.0; 0.1339658780670015 0.0; 0.04301075268817196 0.0; 0.05424670774435192 0.0; 0.22447446848935418 0.0; 0.07855238631100703 0.0; 0.011494252873563218 0.0; 0.05594144114097627 0.0; 0.010989010989011009 0.0]\n",
      "Ligand 'Imipramine'\n",
      "AuPRC = 0.0\n",
      "\n",
      "[0.03321123321123321 0.0; 0.07635241102983038 1.0; 0.03321123321123321 0.0; 0.7961190471660913 1.0; 0.17684894944771698 0.0; 0.16574909424673837 0.0; 0.1339658780670015 0.0; 0.04301075268817196 0.0; 0.05424670774435192 0.0; 0.22447446848935418 1.0; 0.07855238631100703 0.0; 0.011494252873563218 0.0; 0.05594144114097627 0.0; 0.010989010989011009 0.0]\n",
      "Ligand 'Robenidine'\n",
      "AuPRC = 0.46031746031746035\n",
      "\n",
      "[0.03321123321123321 0.0; 0.07635241102983038 0.0; 0.03321123321123321 0.0; 0.7961190471660913 1.0; 0.17684894944771698 0.0; 0.16574909424673837 0.0; 0.1339658780670015 0.0; 0.04301075268817196 0.0; 0.05424670774435192 0.0; 0.22447446848935418 0.0; 0.07855238631100703 0.0; 0.011494252873563218 0.0; 0.05594144114097627 0.0; 0.010989010989011009 0.0]\n",
      "Ligand 'Bleomycin'\n",
      "AuPRC = 0.0\n",
      "\n",
      "[0.03321123321123321 0.0; 0.07635241102983038 0.0; 0.03321123321123321 0.0; 0.7961190471660913 0.0; 0.17684894944771698 0.0; 0.16574909424673837 0.0; 0.1339658780670015 0.0; 0.04301075268817196 0.0; 0.05424670774435192 0.0; 0.22447446848935418 1.0; 0.07855238631100703 0.0; 0.011494252873563218 0.0; 0.05594144114097627 0.0; 0.010989010989011009 0.0]\n",
      "Ligand 'Bepridil'\n",
      "AuPRC = 0.25\n",
      "\n",
      "[0.03321123321123321 0.0; 0.07635241102983038 0.0; 0.03321123321123321 0.0; 0.7961190471660913 1.0; 0.17684894944771698 0.0; 0.16574909424673837 0.0; 0.1339658780670015 0.0; 0.04301075268817196 0.0; 0.05424670774435192 0.0; 0.22447446848935418 0.0; 0.07855238631100703 0.0; 0.011494252873563218 0.0; 0.05594144114097627 0.0; 0.010989010989011009 0.0]\n",
      "Ligand 'Aripiprazole'\n",
      "AuPRC = 0.0\n",
      "\n",
      "[0.03321123321123321 0.0; 0.07635241102983038 0.0; 0.03321123321123321 0.0; 0.7961190471660913 1.0; 0.17684894944771698 0.0; 0.16574909424673837 0.0; 0.1339658780670015 0.0; 0.04301075268817196 0.0; 0.05424670774435192 0.0; 0.22447446848935418 0.0; 0.07855238631100703 0.0; 0.011494252873563218 0.0; 0.05594144114097627 0.0; 0.010989010989011009 0.0]\n",
      "Ligand 'Auranofin'\n",
      "AuPRC = 0.0\n",
      "\n",
      "[0.03321123321123321 0.0; 0.07635241102983038 0.0; 0.03321123321123321 0.0; 0.7961190471660913 1.0; 0.17684894944771698 0.0; 0.16574909424673837 0.0; 0.1339658780670015 0.0; 0.04301075268817196 0.0; 0.05424670774435192 0.0; 0.22447446848935418 0.0; 0.07855238631100703 0.0; 0.011494252873563218 0.0; 0.05594144114097627 0.0; 0.010989010989011009 0.0]\n",
      "Ligand 'Zotepine'\n",
      "AuPRC = 0.0\n",
      "\n",
      "[0.03321123321123321 0.0; 0.07635241102983038 0.0; 0.03321123321123321 0.0; 0.7961190471660913 1.0; 0.17684894944771698 1.0; 0.16574909424673837 1.0; 0.1339658780670015 1.0; 0.04301075268817196 0.0; 0.05424670774435192 0.0; 0.22447446848935418 0.0; 0.07855238631100703 0.0; 0.011494252873563218 0.0; 0.05594144114097627 0.0; 0.010989010989011009 0.0]\n",
      "Ligand 'Amphotericin_B'\n",
      "AuPRC = 0.5166666666666666\n",
      "\n",
      "[0.03321123321123321 0.0; 0.07635241102983038 0.0; 0.03321123321123321 0.0; 0.7961190471660913 1.0; 0.17684894944771698 0.0; 0.16574909424673837 0.0; 0.1339658780670015 0.0; 0.04301075268817196 0.0; 0.05424670774435192 0.0; 0.22447446848935418 0.0; 0.07855238631100703 0.0; 0.011494252873563218 0.0; 0.05594144114097627 0.0; 0.010989010989011009 0.0]\n",
      "Ligand 'N-(1-Benzylpiperidin-4-yl)-6,7-dimethoxy-2-(4-methyl-1,4-diazepan-1-yl)quinazolin-4-amine_[BIX01294]'\n",
      "AuPRC = 0.0\n",
      "\n"
     ]
    }
   ],
   "source": [
    "# Evaluate predictions\n",
    "for (i, rpred) in enumerate(eachrow(yhat))\n",
    "    println(hcat(rpred, ytest[i,:]))\n",
    "    println(\"Ligand '$(test[i])'\")\n",
    "    println(\"AuPRC = $(SimSpread.AuPRC(Bool.(ytest[i,:]), rpred))\")\n",
    "\n",
    "    println()\n",
    "end"
   ]
  },
  {
   "cell_type": "code",
   "execution_count": null,
   "id": "29b9651f-c51e-4cbf-bfe4-445da9fd8e71",
   "metadata": {},
   "outputs": [],
   "source": []
  }
 ],
 "metadata": {
  "kernelspec": {
   "display_name": "Julia 1.8.5",
   "language": "julia",
   "name": "julia-1.8"
  },
  "language_info": {
   "file_extension": ".jl",
   "mimetype": "application/julia",
   "name": "julia",
   "version": "1.8.5"
  }
 },
 "nbformat": 4,
 "nbformat_minor": 5
}
