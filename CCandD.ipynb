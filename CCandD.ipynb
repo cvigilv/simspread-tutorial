{
 "cells": [
  {
   "cell_type": "code",
   "execution_count": 15,
   "id": "ea2b474f-5789-4cd3-942f-f063174f52ad",
   "metadata": {
    "tags": []
   },
   "outputs": [],
   "source": [
    "using NamedArrays, DelimitedFiles, DataFrames, CSV\n",
    "using AlgebraOfGraphics, CairoMakie\n",
    "using SimSpread"
   ]
  },
  {
   "cell_type": "code",
   "execution_count": 2,
   "id": "024cfa88-b3ef-4df3-bb43-24bebe521c5d",
   "metadata": {
    "tags": []
   },
   "outputs": [],
   "source": [
    "# Load dataset\n",
    "y = read_namedmatrix(\"../simspread-antifungals/data/DT/chembl24_ts.DT.csv\", '\\t')\n",
    "X = read_namedmatrix(\"../simspread-antifungals/data/DD/chembl24_ts.ecfp4_tanimoto.txt\", ' ');"
   ]
  },
  {
   "cell_type": "code",
   "execution_count": 3,
   "id": "19a36cc7-e31f-4bb7-9340-230070167152",
   "metadata": {
    "tags": []
   },
   "outputs": [
    {
     "data": {
      "text/plain": [
       "1116×1116 Named Matrix{Float64}\n",
       "        A ╲ B │    fCHEMBL1000  …    fCHEMBL99946\n",
       "──────────────┼──────────────────────────────────\n",
       "CHEMBL1000    │            1.0  …             0.0\n",
       "CHEMBL1002    │            0.0                0.0\n",
       "CHEMBL1008    │            0.0                0.0\n",
       "CHEMBL101253  │            0.0                0.0\n",
       "CHEMBL1014    │            0.0                0.0\n",
       "CHEMBL1016    │            0.0                0.0\n",
       "CHEMBL1017    │            0.0                0.0\n",
       "CHEMBL10188   │            0.0                0.0\n",
       "CHEMBL1020    │            0.0                0.0\n",
       "CHEMBL1023    │            0.0                0.0\n",
       "CHEMBL1027    │            0.0                0.0\n",
       "⋮                            ⋮  ⋱               ⋮\n",
       "CHEMBL964     │            0.0                0.0\n",
       "CHEMBL965     │            0.0                0.0\n",
       "CHEMBL973     │            0.0                0.0\n",
       "CHEMBL978     │            0.0                0.0\n",
       "CHEMBL98      │            0.0                0.0\n",
       "CHEMBL982     │            0.0                0.0\n",
       "CHEMBL986     │            0.0                0.0\n",
       "CHEMBL9967    │            0.0                0.0\n",
       "CHEMBL997     │            0.0                0.0\n",
       "CHEMBL998     │            0.0                0.0\n",
       "CHEMBL99946   │            0.0  …             1.0"
      ]
     },
     "execution_count": 3,
     "metadata": {},
     "output_type": "execute_result"
    }
   ],
   "source": [
    "# Featurize description\n",
    "X′= featurize(X, 0.3, false)"
   ]
  },
  {
   "cell_type": "code",
   "execution_count": 4,
   "id": "63db9890-2b7b-4642-b056-58b5ae879f08",
   "metadata": {
    "tags": []
   },
   "outputs": [
    {
     "data": {
      "text/plain": [
       "3038×3038 Named Matrix{Float64}\n",
       "         A ╲ B │     CHEMBL1000  …      CHEMBL6174\n",
       "───────────────┼──────────────────────────────────\n",
       "CHEMBL1000     │            0.0  …             0.0\n",
       "CHEMBL1002     │            0.0                0.0\n",
       "CHEMBL1008     │            0.0                0.0\n",
       "CHEMBL101253   │            0.0                0.0\n",
       "CHEMBL1014     │            0.0                0.0\n",
       "CHEMBL1016     │            0.0                0.0\n",
       "CHEMBL1017     │            0.0                0.0\n",
       "CHEMBL10188    │            0.0                0.0\n",
       "CHEMBL1020     │            0.0                0.0\n",
       "CHEMBL1023     │            0.0                0.0\n",
       "CHEMBL1027     │            0.0                0.0\n",
       "⋮                             ⋮  ⋱               ⋮\n",
       "CHEMBL6113     │            0.0                0.0\n",
       "CHEMBL6115     │            0.0                0.0\n",
       "CHEMBL6120     │            0.0                0.0\n",
       "CHEMBL6123     │            0.0                0.0\n",
       "CHEMBL6142     │            0.0                0.0\n",
       "CHEMBL6154     │            0.0                0.0\n",
       "CHEMBL6162     │            0.0                0.0\n",
       "CHEMBL6164     │            0.0                0.0\n",
       "CHEMBL6166     │            0.0                0.0\n",
       "CHEMBL6167     │            0.0                0.0\n",
       "CHEMBL6174     │            0.0  …             0.0"
      ]
     },
     "execution_count": 4,
     "metadata": {},
     "output_type": "execute_result"
    }
   ],
   "source": [
    "# Construct trilayered graph\n",
    "G = construct(y, X′)"
   ]
  },
  {
   "cell_type": "code",
   "execution_count": 5,
   "id": "8c61a0cc-fcb7-4d03-bfab-574f415aa926",
   "metadata": {
    "tags": []
   },
   "outputs": [
    {
     "data": {
      "text/plain": [
       "1116×806 Named Matrix{Float64}\n",
       "        A ╲ B │ CHEMBL1075102  CHEMBL1075104  …     CHEMBL6167     CHEMBL6174\n",
       "──────────────┼──────────────────────────────────────────────────────────────\n",
       "CHEMBL1000    │           0.0            0.0  …            0.0            0.0\n",
       "CHEMBL1002    │           0.0            0.0               0.0            0.0\n",
       "CHEMBL1008    │           0.0     7.20721e-5        7.20721e-5            0.0\n",
       "CHEMBL101253  │           0.0      0.0020292         0.0154606            0.0\n",
       "CHEMBL1014    │           0.0            0.0               0.0            0.0\n",
       "CHEMBL1016    │           0.0            0.0               0.0            0.0\n",
       "CHEMBL1017    │           0.0            0.0               0.0            0.0\n",
       "CHEMBL10188   │           0.0            0.0               0.0            0.0\n",
       "CHEMBL1020    │           0.0            0.0               0.0            0.0\n",
       "CHEMBL1023    │           0.0            0.0               0.0            0.0\n",
       "CHEMBL1027    │           0.0            0.0               0.0            0.0\n",
       "⋮                           ⋮              ⋮  ⋱              ⋮              ⋮\n",
       "CHEMBL964     │           0.0            0.0               0.0            0.0\n",
       "CHEMBL965     │           0.0            0.0               0.0            0.0\n",
       "CHEMBL973     │           0.0            0.0               0.0            0.0\n",
       "CHEMBL978     │           0.0            0.0               0.0            0.0\n",
       "CHEMBL98      │           0.0            0.0               0.0            0.0\n",
       "CHEMBL982     │           0.0            0.0               0.0            0.0\n",
       "CHEMBL986     │           0.0            0.0               0.0            0.0\n",
       "CHEMBL9967    │           0.0            0.0               0.0            0.0\n",
       "CHEMBL997     │           0.0            0.0               0.0            0.0\n",
       "CHEMBL998     │           0.0            0.0               0.0            0.0\n",
       "CHEMBL99946   │           0.0            0.0  …            0.0            0.0"
      ]
     },
     "execution_count": 5,
     "metadata": {},
     "output_type": "execute_result"
    }
   ],
   "source": [
    "# Predict interactions\n",
    "yhat = predict(G, y; GPU = true)"
   ]
  },
  {
   "cell_type": "code",
   "execution_count": 9,
   "id": "e036042a-723e-44b0-98b0-5123085b4c38",
   "metadata": {
    "tags": []
   },
   "outputs": [
    {
     "data": {
      "text/plain": [
       "806-element Vector{String}:\n",
       " \"CHEMBL1075102\"\n",
       " \"CHEMBL1075104\"\n",
       " \"CHEMBL1075132\"\n",
       " \"CHEMBL1075144\"\n",
       " \"CHEMBL1075145\"\n",
       " \"CHEMBL1075162\"\n",
       " \"CHEMBL1075165\"\n",
       " \"CHEMBL1075322\"\n",
       " \"CHEMBL1075323\"\n",
       " \"CHEMBL1163125\"\n",
       " \"CHEMBL1169596\"\n",
       " \"CHEMBL1250378\"\n",
       " \"CHEMBL1250402\"\n",
       " ⋮\n",
       " \"CHEMBL6093\"\n",
       " \"CHEMBL6113\"\n",
       " \"CHEMBL6115\"\n",
       " \"CHEMBL6120\"\n",
       " \"CHEMBL6123\"\n",
       " \"CHEMBL6142\"\n",
       " \"CHEMBL6154\"\n",
       " \"CHEMBL6162\"\n",
       " \"CHEMBL6164\"\n",
       " \"CHEMBL6166\"\n",
       " \"CHEMBL6167\"\n",
       " \"CHEMBL6174\""
      ]
     },
     "execution_count": 9,
     "metadata": {},
     "output_type": "execute_result"
    }
   ],
   "source": [
    "ligands = names(y,1)\n",
    "targets = names(y,2)"
   ]
  },
  {
   "cell_type": "code",
   "execution_count": 13,
   "id": "af60255a-285e-47b5-8662-f9742ad6bfed",
   "metadata": {
    "tags": []
   },
   "outputs": [],
   "source": [
    "# Evaluate predictions\n",
    "predictions = Dict()\n",
    "predictions[\"α\"] = []\n",
    "predictions[\"ligid\"] = []\n",
    "predictions[\"trgid\"] = []\n",
    "predictions[\"y\"] = []\n",
    "predictions[\"yhat\"] = []\n",
    "\n",
    "for α in 0.0:0.05:1.0\n",
    "    # Featurize description\n",
    "    X′= featurize(X, α, false)\n",
    "    \n",
    "    # Construct trilayered graph\n",
    "    G = construct(y, X′)\n",
    "    \n",
    "    # Predict interactions\n",
    "    yhat = predict(G, y; GPU = true)\n",
    "    \n",
    "    \n",
    "    for (ligid, yhat_i) in zip(ligands, eachrow(yhat))\n",
    "        for (trgid, yhat_ij) in zip(targets, yhat_i)\n",
    "            push!(predictions[\"α\"], α)\n",
    "            push!(predictions[\"ligid\"], ligid)\n",
    "            push!(predictions[\"trgid\"], trgid)\n",
    "            push!(predictions[\"yhat\"], yhat_ij)\n",
    "            push!(predictions[\"y\"], y[ligid, trgid])\n",
    "        end\n",
    "    end\n",
    "end"
   ]
  },
  {
   "cell_type": "code",
   "execution_count": 16,
   "id": "91b2f849-a83e-45bc-aa11-fda76cb9aa0f",
   "metadata": {
    "tags": []
   },
   "outputs": [
    {
     "data": {
      "text/plain": [
       "\"ChEMBL_CCandD.training.csv\""
      ]
     },
     "execution_count": 16,
     "metadata": {},
     "output_type": "execute_result"
    }
   ],
   "source": [
    "CSV.write(\"ChEMBL_CCandD.training.csv\", DataFrame(predictions))"
   ]
  },
  {
   "cell_type": "code",
   "execution_count": null,
   "id": "38566b74-b903-4f7d-9fd2-c18b97a2ff79",
   "metadata": {},
   "outputs": [],
   "source": []
  }
 ],
 "metadata": {
  "kernelspec": {
   "display_name": "Julia 1.8.5",
   "language": "julia",
   "name": "julia-1.8"
  },
  "language_info": {
   "file_extension": ".jl",
   "mimetype": "application/julia",
   "name": "julia",
   "version": "1.8.5"
  }
 },
 "nbformat": 4,
 "nbformat_minor": 5
}
