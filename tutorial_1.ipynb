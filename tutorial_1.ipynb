{
 "cells": [
  {
   "cell_type": "markdown",
   "id": "cba897d4-445a-4445-b53e-c98d287f9df5",
   "metadata": {},
   "source": [
    "# Tutorial\n",
    "This is a simply and concise tutorial to start using SimSpread, using as example dataset the classical \"Iris\"\n",
    "dataset proposed by R.A. Fisher.\n",
    "\n",
    "First, we must install the necesary packages we will use in this tutorial:"
   ]
  },
  {
   "cell_type": "code",
   "execution_count": 1,
   "id": "094a3f32-2ec7-4bb5-8bb0-88423154b23c",
   "metadata": {},
   "outputs": [
    {
     "name": "stderr",
     "output_type": "stream",
     "text": [
      "\u001b[32m\u001b[1m    Updating\u001b[22m\u001b[39m registry at `~/.julia/registries/General.toml`\n",
      "\u001b[32m\u001b[1m   Resolving\u001b[22m\u001b[39m package versions...\n",
      "\u001b[32m\u001b[1m  No Changes\u001b[22m\u001b[39m to `~/.julia/environments/v1.8/Project.toml`\n",
      "\u001b[32m\u001b[1m  No Changes\u001b[22m\u001b[39m to `~/.julia/environments/v1.8/Manifest.toml`\n",
      "\u001b[32m\u001b[1m    Updating\u001b[22m\u001b[39m git-repo `https://github.com/cvigilv/SimSpread.jl.git#refactor`\n",
      "\u001b[32m\u001b[1m   Resolving\u001b[22m\u001b[39m package versions...\n",
      "\u001b[32m\u001b[1m  No Changes\u001b[22m\u001b[39m to `~/.julia/environments/v1.8/Project.toml`\n",
      "\u001b[32m\u001b[1m  No Changes\u001b[22m\u001b[39m to `~/.julia/environments/v1.8/Manifest.toml`\n"
     ]
    }
   ],
   "source": [
    "import Pkg; Pkg.add([\"MLDatasets\", \"NamedArrays\", \"Distances\", \"DataFrames\", \"AlgebraOfGraphics\", \"CairoMakie\"])\n",
    "Pkg.add(url=\"https://github.com/cvigilv/SimSpread.jl.git#refactor\")"
   ]
  },
  {
   "cell_type": "markdown",
   "id": "e01104d4-b284-49c3-9619-4e05da6c2188",
   "metadata": {},
   "source": [
    "After the above command complete, go ahead and load the dataset we will use."
   ]
  },
  {
   "cell_type": "code",
   "execution_count": 2,
   "id": "18af9f05-7dea-48d7-96e1-bc34e0ae66a6",
   "metadata": {},
   "outputs": [
    {
     "data": {
      "text/html": [
       "<div><div style = \"float: left;\"><span>5×5 DataFrame</span></div><div style = \"clear: both;\"></div></div><div class = \"data-frame\" style = \"overflow-x: scroll;\"><table class = \"data-frame\" style = \"margin-bottom: 6px;\"><thead><tr class = \"header\"><th class = \"rowNumber\" style = \"font-weight: bold; text-align: right;\">Row</th><th style = \"text-align: left;\">sepallength</th><th style = \"text-align: left;\">sepalwidth</th><th style = \"text-align: left;\">petallength</th><th style = \"text-align: left;\">petalwidth</th><th style = \"text-align: left;\">class</th></tr><tr class = \"subheader headerLastRow\"><th class = \"rowNumber\" style = \"font-weight: bold; text-align: right;\"></th><th title = \"Float64\" style = \"text-align: left;\">Float64</th><th title = \"Float64\" style = \"text-align: left;\">Float64</th><th title = \"Float64\" style = \"text-align: left;\">Float64</th><th title = \"Float64\" style = \"text-align: left;\">Float64</th><th title = \"InlineStrings.String15\" style = \"text-align: left;\">String15</th></tr></thead><tbody><tr><td class = \"rowNumber\" style = \"font-weight: bold; text-align: right;\">1</td><td style = \"text-align: right;\">5.1</td><td style = \"text-align: right;\">3.5</td><td style = \"text-align: right;\">1.4</td><td style = \"text-align: right;\">0.2</td><td style = \"text-align: left;\">Iris-setosa</td></tr><tr><td class = \"rowNumber\" style = \"font-weight: bold; text-align: right;\">2</td><td style = \"text-align: right;\">4.9</td><td style = \"text-align: right;\">3.0</td><td style = \"text-align: right;\">1.4</td><td style = \"text-align: right;\">0.2</td><td style = \"text-align: left;\">Iris-setosa</td></tr><tr><td class = \"rowNumber\" style = \"font-weight: bold; text-align: right;\">3</td><td style = \"text-align: right;\">4.7</td><td style = \"text-align: right;\">3.2</td><td style = \"text-align: right;\">1.3</td><td style = \"text-align: right;\">0.2</td><td style = \"text-align: left;\">Iris-setosa</td></tr><tr><td class = \"rowNumber\" style = \"font-weight: bold; text-align: right;\">4</td><td style = \"text-align: right;\">4.6</td><td style = \"text-align: right;\">3.1</td><td style = \"text-align: right;\">1.5</td><td style = \"text-align: right;\">0.2</td><td style = \"text-align: left;\">Iris-setosa</td></tr><tr><td class = \"rowNumber\" style = \"font-weight: bold; text-align: right;\">5</td><td style = \"text-align: right;\">5.0</td><td style = \"text-align: right;\">3.6</td><td style = \"text-align: right;\">1.4</td><td style = \"text-align: right;\">0.2</td><td style = \"text-align: left;\">Iris-setosa</td></tr></tbody></table></div>"
      ],
      "text/latex": [
       "\\begin{tabular}{r|ccccc}\n",
       "\t& sepallength & sepalwidth & petallength & petalwidth & class\\\\\n",
       "\t\\hline\n",
       "\t& Float64 & Float64 & Float64 & Float64 & String15\\\\\n",
       "\t\\hline\n",
       "\t1 & 5.1 & 3.5 & 1.4 & 0.2 & Iris-setosa \\\\\n",
       "\t2 & 4.9 & 3.0 & 1.4 & 0.2 & Iris-setosa \\\\\n",
       "\t3 & 4.7 & 3.2 & 1.3 & 0.2 & Iris-setosa \\\\\n",
       "\t4 & 4.6 & 3.1 & 1.5 & 0.2 & Iris-setosa \\\\\n",
       "\t5 & 5.0 & 3.6 & 1.4 & 0.2 & Iris-setosa \\\\\n",
       "\\end{tabular}\n"
      ],
      "text/plain": [
       "\u001b[1m5×5 DataFrame\u001b[0m\n",
       "\u001b[1m Row \u001b[0m│\u001b[1m sepallength \u001b[0m\u001b[1m sepalwidth \u001b[0m\u001b[1m petallength \u001b[0m\u001b[1m petalwidth \u001b[0m\u001b[1m class       \u001b[0m\n",
       "     │\u001b[90m Float64     \u001b[0m\u001b[90m Float64    \u001b[0m\u001b[90m Float64     \u001b[0m\u001b[90m Float64    \u001b[0m\u001b[90m String15    \u001b[0m\n",
       "─────┼───────────────────────────────────────────────────────────────\n",
       "   1 │         5.1         3.5          1.4         0.2  Iris-setosa\n",
       "   2 │         4.9         3.0          1.4         0.2  Iris-setosa\n",
       "   3 │         4.7         3.2          1.3         0.2  Iris-setosa\n",
       "   4 │         4.6         3.1          1.5         0.2  Iris-setosa\n",
       "   5 │         5.0         3.6          1.4         0.2  Iris-setosa"
      ]
     },
     "execution_count": 2,
     "metadata": {},
     "output_type": "execute_result"
    }
   ],
   "source": [
    "using MLDatasets, DataFrames\n",
    "\n",
    "# Load Iris dataset\n",
    "iris = Iris().dataframe\n",
    "first(iris, 5)"
   ]
  },
  {
   "cell_type": "markdown",
   "id": "3a01a503-5d27-4fc1-a39b-72fa58d791c7",
   "metadata": {},
   "source": [
    "Since this is a multi-class problem, we need to convert the single column of `class`\n",
    "into 3 distinct columns corresponding to each of the classes in the dataset. For this,\n",
    "we can one-hot encode over each row using the following transformation:"
   ]
  },
  {
   "cell_type": "code",
   "execution_count": 3,
   "id": "b05d3d42-6217-4909-9911-f3f45a37373e",
   "metadata": {},
   "outputs": [
    {
     "data": {
      "text/html": [
       "<div><div style = \"float: left;\"><span>5×8 DataFrame</span></div><div style = \"clear: both;\"></div></div><div class = \"data-frame\" style = \"overflow-x: scroll;\"><table class = \"data-frame\" style = \"margin-bottom: 6px;\"><thead><tr class = \"header\"><th class = \"rowNumber\" style = \"font-weight: bold; text-align: right;\">Row</th><th style = \"text-align: left;\">sepallength</th><th style = \"text-align: left;\">sepalwidth</th><th style = \"text-align: left;\">petallength</th><th style = \"text-align: left;\">petalwidth</th><th style = \"text-align: left;\">class</th><th style = \"text-align: left;\">Is Iris-setosa?</th><th style = \"text-align: left;\">Is Iris-versicolor?</th><th style = \"text-align: left;\">Is Iris-virginica?</th></tr><tr class = \"subheader headerLastRow\"><th class = \"rowNumber\" style = \"font-weight: bold; text-align: right;\"></th><th title = \"Float64\" style = \"text-align: left;\">Float64</th><th title = \"Float64\" style = \"text-align: left;\">Float64</th><th title = \"Float64\" style = \"text-align: left;\">Float64</th><th title = \"Float64\" style = \"text-align: left;\">Float64</th><th title = \"InlineStrings.String15\" style = \"text-align: left;\">String15</th><th title = \"Bool\" style = \"text-align: left;\">Bool</th><th title = \"Bool\" style = \"text-align: left;\">Bool</th><th title = \"Bool\" style = \"text-align: left;\">Bool</th></tr></thead><tbody><tr><td class = \"rowNumber\" style = \"font-weight: bold; text-align: right;\">1</td><td style = \"text-align: right;\">5.1</td><td style = \"text-align: right;\">3.5</td><td style = \"text-align: right;\">1.4</td><td style = \"text-align: right;\">0.2</td><td style = \"text-align: left;\">Iris-setosa</td><td style = \"text-align: right;\">true</td><td style = \"text-align: right;\">false</td><td style = \"text-align: right;\">false</td></tr><tr><td class = \"rowNumber\" style = \"font-weight: bold; text-align: right;\">2</td><td style = \"text-align: right;\">4.9</td><td style = \"text-align: right;\">3.0</td><td style = \"text-align: right;\">1.4</td><td style = \"text-align: right;\">0.2</td><td style = \"text-align: left;\">Iris-setosa</td><td style = \"text-align: right;\">true</td><td style = \"text-align: right;\">false</td><td style = \"text-align: right;\">false</td></tr><tr><td class = \"rowNumber\" style = \"font-weight: bold; text-align: right;\">3</td><td style = \"text-align: right;\">4.7</td><td style = \"text-align: right;\">3.2</td><td style = \"text-align: right;\">1.3</td><td style = \"text-align: right;\">0.2</td><td style = \"text-align: left;\">Iris-setosa</td><td style = \"text-align: right;\">true</td><td style = \"text-align: right;\">false</td><td style = \"text-align: right;\">false</td></tr><tr><td class = \"rowNumber\" style = \"font-weight: bold; text-align: right;\">4</td><td style = \"text-align: right;\">4.6</td><td style = \"text-align: right;\">3.1</td><td style = \"text-align: right;\">1.5</td><td style = \"text-align: right;\">0.2</td><td style = \"text-align: left;\">Iris-setosa</td><td style = \"text-align: right;\">true</td><td style = \"text-align: right;\">false</td><td style = \"text-align: right;\">false</td></tr><tr><td class = \"rowNumber\" style = \"font-weight: bold; text-align: right;\">5</td><td style = \"text-align: right;\">5.0</td><td style = \"text-align: right;\">3.6</td><td style = \"text-align: right;\">1.4</td><td style = \"text-align: right;\">0.2</td><td style = \"text-align: left;\">Iris-setosa</td><td style = \"text-align: right;\">true</td><td style = \"text-align: right;\">false</td><td style = \"text-align: right;\">false</td></tr></tbody></table></div>"
      ],
      "text/latex": [
       "\\begin{tabular}{r|ccccccc}\n",
       "\t& sepallength & sepalwidth & petallength & petalwidth & class & Is Iris-setosa? & \\\\\n",
       "\t\\hline\n",
       "\t& Float64 & Float64 & Float64 & Float64 & String15 & Bool & \\\\\n",
       "\t\\hline\n",
       "\t1 & 5.1 & 3.5 & 1.4 & 0.2 & Iris-setosa & 1 & $\\dots$ \\\\\n",
       "\t2 & 4.9 & 3.0 & 1.4 & 0.2 & Iris-setosa & 1 & $\\dots$ \\\\\n",
       "\t3 & 4.7 & 3.2 & 1.3 & 0.2 & Iris-setosa & 1 & $\\dots$ \\\\\n",
       "\t4 & 4.6 & 3.1 & 1.5 & 0.2 & Iris-setosa & 1 & $\\dots$ \\\\\n",
       "\t5 & 5.0 & 3.6 & 1.4 & 0.2 & Iris-setosa & 1 & $\\dots$ \\\\\n",
       "\\end{tabular}\n"
      ],
      "text/plain": [
       "\u001b[1m5×8 DataFrame\u001b[0m\n",
       "\u001b[1m Row \u001b[0m│\u001b[1m sepallength \u001b[0m\u001b[1m sepalwidth \u001b[0m\u001b[1m petallength \u001b[0m\u001b[1m petalwidth \u001b[0m\u001b[1m class       \u001b[0m\u001b[1m Is Iris-\u001b[0m ⋯\n",
       "     │\u001b[90m Float64     \u001b[0m\u001b[90m Float64    \u001b[0m\u001b[90m Float64     \u001b[0m\u001b[90m Float64    \u001b[0m\u001b[90m String15    \u001b[0m\u001b[90m Bool    \u001b[0m ⋯\n",
       "─────┼──────────────────────────────────────────────────────────────────────────\n",
       "   1 │         5.1         3.5          1.4         0.2  Iris-setosa           ⋯\n",
       "   2 │         4.9         3.0          1.4         0.2  Iris-setosa\n",
       "   3 │         4.7         3.2          1.3         0.2  Iris-setosa\n",
       "   4 │         4.6         3.1          1.5         0.2  Iris-setosa\n",
       "   5 │         5.0         3.6          1.4         0.2  Iris-setosa           ⋯\n",
       "\u001b[36m                                                               3 columns omitted\u001b[0m"
      ]
     },
     "execution_count": 3,
     "metadata": {},
     "output_type": "execute_result"
    }
   ],
   "source": [
    "transform!(\n",
    "    iris, \n",
    "    :class => ByRow(c -> c .== \"Iris-setosa\") => \"Is Iris-setosa?\",\n",
    "    :class => ByRow(c -> c .== \"Iris-versicolor\") => \"Is Iris-versicolor?\",\n",
    "    :class => ByRow(c -> c .== \"Iris-virginica\") => \"Is Iris-virginica?\",\n",
    ")\n",
    "first(iris, 5)"
   ]
  },
  {
   "cell_type": "markdown",
   "id": "a3e9e710-139d-425b-ad47-448ff893e5de",
   "metadata": {},
   "source": [
    "## Data splitting\n",
    "\n",
    "To assess the performance of SimSpread, we will split the iris dataset in 2 groups:\n",
    "training set, which will correspond to 80% of the data, and testing set, which will\n",
    "correspond to the remaining 20%. \n",
    "\n",
    "We will shuffle and split the dataset with the following code:"
   ]
  },
  {
   "cell_type": "code",
   "execution_count": 4,
   "id": "daec09f7-b4eb-4553-88ed-4de44bf6c77c",
   "metadata": {},
   "outputs": [
    {
     "data": {
      "text/html": [
       "<div><div style = \"float: left;\"><span>5×4 DataFrame</span></div><div style = \"clear: both;\"></div></div><div class = \"data-frame\" style = \"overflow-x: scroll;\"><table class = \"data-frame\" style = \"margin-bottom: 6px;\"><thead><tr class = \"header\"><th class = \"rowNumber\" style = \"font-weight: bold; text-align: right;\">Row</th><th style = \"text-align: left;\">sepallength</th><th style = \"text-align: left;\">sepalwidth</th><th style = \"text-align: left;\">petallength</th><th style = \"text-align: left;\">petalwidth</th></tr><tr class = \"subheader headerLastRow\"><th class = \"rowNumber\" style = \"font-weight: bold; text-align: right;\"></th><th title = \"Float64\" style = \"text-align: left;\">Float64</th><th title = \"Float64\" style = \"text-align: left;\">Float64</th><th title = \"Float64\" style = \"text-align: left;\">Float64</th><th title = \"Float64\" style = \"text-align: left;\">Float64</th></tr></thead><tbody><tr><td class = \"rowNumber\" style = \"font-weight: bold; text-align: right;\">1</td><td style = \"text-align: right;\">6.7</td><td style = \"text-align: right;\">3.3</td><td style = \"text-align: right;\">5.7</td><td style = \"text-align: right;\">2.1</td></tr><tr><td class = \"rowNumber\" style = \"font-weight: bold; text-align: right;\">2</td><td style = \"text-align: right;\">5.4</td><td style = \"text-align: right;\">3.9</td><td style = \"text-align: right;\">1.7</td><td style = \"text-align: right;\">0.4</td></tr><tr><td class = \"rowNumber\" style = \"font-weight: bold; text-align: right;\">3</td><td style = \"text-align: right;\">7.4</td><td style = \"text-align: right;\">2.8</td><td style = \"text-align: right;\">6.1</td><td style = \"text-align: right;\">1.9</td></tr><tr><td class = \"rowNumber\" style = \"font-weight: bold; text-align: right;\">4</td><td style = \"text-align: right;\">5.5</td><td style = \"text-align: right;\">3.5</td><td style = \"text-align: right;\">1.3</td><td style = \"text-align: right;\">0.2</td></tr><tr><td class = \"rowNumber\" style = \"font-weight: bold; text-align: right;\">5</td><td style = \"text-align: right;\">4.9</td><td style = \"text-align: right;\">3.0</td><td style = \"text-align: right;\">1.4</td><td style = \"text-align: right;\">0.2</td></tr></tbody></table></div>"
      ],
      "text/latex": [
       "\\begin{tabular}{r|cccc}\n",
       "\t& sepallength & sepalwidth & petallength & petalwidth\\\\\n",
       "\t\\hline\n",
       "\t& Float64 & Float64 & Float64 & Float64\\\\\n",
       "\t\\hline\n",
       "\t1 & 6.7 & 3.3 & 5.7 & 2.1 \\\\\n",
       "\t2 & 5.4 & 3.9 & 1.7 & 0.4 \\\\\n",
       "\t3 & 7.4 & 2.8 & 6.1 & 1.9 \\\\\n",
       "\t4 & 5.5 & 3.5 & 1.3 & 0.2 \\\\\n",
       "\t5 & 4.9 & 3.0 & 1.4 & 0.2 \\\\\n",
       "\\end{tabular}\n"
      ],
      "text/plain": [
       "\u001b[1m5×4 DataFrame\u001b[0m\n",
       "\u001b[1m Row \u001b[0m│\u001b[1m sepallength \u001b[0m\u001b[1m sepalwidth \u001b[0m\u001b[1m petallength \u001b[0m\u001b[1m petalwidth \u001b[0m\n",
       "     │\u001b[90m Float64     \u001b[0m\u001b[90m Float64    \u001b[0m\u001b[90m Float64     \u001b[0m\u001b[90m Float64    \u001b[0m\n",
       "─────┼──────────────────────────────────────────────────\n",
       "   1 │         6.7         3.3          5.7         2.1\n",
       "   2 │         5.4         3.9          1.7         0.4\n",
       "   3 │         7.4         2.8          6.1         1.9\n",
       "   4 │         5.5         3.5          1.3         0.2\n",
       "   5 │         4.9         3.0          1.4         0.2"
      ]
     },
     "metadata": {},
     "output_type": "display_data"
    },
    {
     "data": {
      "text/html": [
       "<div><div style = \"float: left;\"><span>5×3 DataFrame</span></div><div style = \"clear: both;\"></div></div><div class = \"data-frame\" style = \"overflow-x: scroll;\"><table class = \"data-frame\" style = \"margin-bottom: 6px;\"><thead><tr class = \"header\"><th class = \"rowNumber\" style = \"font-weight: bold; text-align: right;\">Row</th><th style = \"text-align: left;\">Is Iris-setosa?</th><th style = \"text-align: left;\">Is Iris-versicolor?</th><th style = \"text-align: left;\">Is Iris-virginica?</th></tr><tr class = \"subheader headerLastRow\"><th class = \"rowNumber\" style = \"font-weight: bold; text-align: right;\"></th><th title = \"Bool\" style = \"text-align: left;\">Bool</th><th title = \"Bool\" style = \"text-align: left;\">Bool</th><th title = \"Bool\" style = \"text-align: left;\">Bool</th></tr></thead><tbody><tr><td class = \"rowNumber\" style = \"font-weight: bold; text-align: right;\">1</td><td style = \"text-align: right;\">false</td><td style = \"text-align: right;\">false</td><td style = \"text-align: right;\">true</td></tr><tr><td class = \"rowNumber\" style = \"font-weight: bold; text-align: right;\">2</td><td style = \"text-align: right;\">true</td><td style = \"text-align: right;\">false</td><td style = \"text-align: right;\">false</td></tr><tr><td class = \"rowNumber\" style = \"font-weight: bold; text-align: right;\">3</td><td style = \"text-align: right;\">false</td><td style = \"text-align: right;\">false</td><td style = \"text-align: right;\">true</td></tr><tr><td class = \"rowNumber\" style = \"font-weight: bold; text-align: right;\">4</td><td style = \"text-align: right;\">true</td><td style = \"text-align: right;\">false</td><td style = \"text-align: right;\">false</td></tr><tr><td class = \"rowNumber\" style = \"font-weight: bold; text-align: right;\">5</td><td style = \"text-align: right;\">true</td><td style = \"text-align: right;\">false</td><td style = \"text-align: right;\">false</td></tr></tbody></table></div>"
      ],
      "text/latex": [
       "\\begin{tabular}{r|ccc}\n",
       "\t& Is Iris-setosa? & Is Iris-versicolor? & Is Iris-virginica?\\\\\n",
       "\t\\hline\n",
       "\t& Bool & Bool & Bool\\\\\n",
       "\t\\hline\n",
       "\t1 & 0 & 0 & 1 \\\\\n",
       "\t2 & 1 & 0 & 0 \\\\\n",
       "\t3 & 0 & 0 & 1 \\\\\n",
       "\t4 & 1 & 0 & 0 \\\\\n",
       "\t5 & 1 & 0 & 0 \\\\\n",
       "\\end{tabular}\n"
      ],
      "text/plain": [
       "\u001b[1m5×3 DataFrame\u001b[0m\n",
       "\u001b[1m Row \u001b[0m│\u001b[1m Is Iris-setosa? \u001b[0m\u001b[1m Is Iris-versicolor? \u001b[0m\u001b[1m Is Iris-virginica? \u001b[0m\n",
       "     │\u001b[90m Bool            \u001b[0m\u001b[90m Bool                \u001b[0m\u001b[90m Bool               \u001b[0m\n",
       "─────┼──────────────────────────────────────────────────────────\n",
       "   1 │           false                false                true\n",
       "   2 │            true                false               false\n",
       "   3 │           false                false                true\n",
       "   4 │            true                false               false\n",
       "   5 │            true                false               false"
      ]
     },
     "metadata": {},
     "output_type": "display_data"
    }
   ],
   "source": [
    "using Random\n",
    "\n",
    "# Split dataset\n",
    "Random.seed!(1)\n",
    "N = nrow(iris)\n",
    "perm = randperm(N)\n",
    "\n",
    "train_idx = last(perm, Int(0.8*N))\n",
    "test_idx  = first(perm, Int(0.2*N))\n",
    "\n",
    "Xtrain = iris[train_idx, [\"sepallength\", \"sepalwidth\", \"petallength\", \"petalwidth\"]]\n",
    "Xtest  = iris[test_idx,  [\"sepallength\", \"sepalwidth\", \"petallength\", \"petalwidth\"]]\n",
    "ytrain = iris[train_idx, [\"Is Iris-setosa?\", \"Is Iris-versicolor?\", \"Is Iris-virginica?\"]]\n",
    "ytest  = iris[test_idx,  [\"Is Iris-setosa?\", \"Is Iris-versicolor?\", \"Is Iris-virginica?\"]]\n",
    "\n",
    "display(first(Xtrain, 5))\n",
    "display(first(ytrain, 5))"
   ]
  },
  {
   "cell_type": "markdown",
   "id": "0c1e1f0d-8d46-4f8d-ae6f-7f313ca63acd",
   "metadata": {},
   "source": [
    "## Meta-description preparation\n",
    "\n",
    "SimSpread works using a meta-description of the query nodes "
   ]
  },
  {
   "cell_type": "code",
   "execution_count": 5,
   "id": "9f034035-7c3f-4a9b-86ba-9b25245f172d",
   "metadata": {},
   "outputs": [],
   "source": [
    "using Distances, NamedArrays\n",
    "\n",
    "# Calculate pairwise similarity using features\n",
    "# Note: Here we use Jaccard to bound the similarity between 0 (completely disimmilar) \n",
    "#       to 1 (completely similar). For more distance and similarity measurements, please\n",
    "#       refer to https://github.com/JuliaStats/Distances.jl\n",
    "Dtrain = 1 .- pairwise(Jaccard(), Matrix(Xtrain), dims = 1)\n",
    "Dtest = 1 .- pairwise(Jaccard(), Matrix(Xtest), Matrix(Xtrain), dims = 1)\n",
    "\n",
    "# Convert to NamedArray\n",
    "Dtrain = NamedArray(Dtrain, ([\"E$i\" for i in train_idx], [\"E$i\" for i in train_idx]))\n",
    "Dtest = NamedArray(Dtest, ([\"E$i\" for i in test_idx], [\"E$i\" for i in train_idx]));"
   ]
  },
  {
   "cell_type": "code",
   "execution_count": 6,
   "id": "268b2d11-3372-43d1-ab31-494dab610c9e",
   "metadata": {},
   "outputs": [
    {
     "ename": "LoadError",
     "evalue": "UndefVarError: construct not defined",
     "output_type": "error",
     "traceback": [
      "UndefVarError: construct not defined",
      "",
      "Stacktrace:",
      " [1] top-level scope",
      "   @ In[6]:13"
     ]
    }
   ],
   "source": [
    "using SimSpread\n",
    "\n",
    "# Generate meta-description from similarity measurements\n",
    "α = 0.9\n",
    "Xtrain′ = featurize(Dtrain, α, true)\n",
    "Xtest′ = featurize(Dtest, α, true)\n",
    "\n",
    "# Convert data\n",
    "ytrain′ = NamedArray(Matrix{Float64}(ytrain), ([\"E$i\" for i in train_idx], [\"C$i\" for i in 1:3]))\n",
    "ytest′ = NamedArray(Matrix{Float64}(ytest), ([\"E$i\" for i in test_idx], [\"C$i\" for i in 1:3]))\n",
    "\n",
    "# Construct feature-source-target graph for predictions\n",
    "G = construct(ytrain′, ytest′, Xtrain′, Xtest′);"
   ]
  },
  {
   "cell_type": "markdown",
   "id": "7a2e7306-9ecf-4edf-b0d9-3133f8ee86d0",
   "metadata": {},
   "source": [
    "## Predicting labels with SimSpread\n",
    "\n"
   ]
  },
  {
   "cell_type": "code",
   "execution_count": 7,
   "id": "ea4be735-fc7e-4d94-896a-091f4eaa1b74",
   "metadata": {},
   "outputs": [
    {
     "ename": "LoadError",
     "evalue": "UndefVarError: G not defined",
     "output_type": "error",
     "traceback": [
      "UndefVarError: G not defined",
      "",
      "Stacktrace:",
      " [1] top-level scope",
      "   @ In[7]:2"
     ]
    }
   ],
   "source": [
    "# Predict\n",
    "ŷtrain = predict(G, ytrain′)\n",
    "ŷtest = predict(G, ytest′)\n",
    "\n",
    "ŷtest[1:3, :]"
   ]
  },
  {
   "cell_type": "markdown",
   "id": "677eedca-6b94-40dc-9a32-9c67f9e4e909",
   "metadata": {},
   "source": [
    "As we can see, we predict the probability for each class of flower possible. To evaluate the predictive performance as a multiclass problem, we will assign the label with the highest score as the predicted label.\n",
    "> In the example above, the predicted labels would be \"Iris-virginica\", \"Iris-setosa\" & \"Iris-setosa\". \n",
    "\n",
    "To convert the problem from single-class to multi-class we do the following:"
   ]
  },
  {
   "cell_type": "code",
   "execution_count": 8,
   "id": "01053df2-9765-4602-838b-479d1e504f99",
   "metadata": {},
   "outputs": [
    {
     "ename": "LoadError",
     "evalue": "UndefVarError: ŷtest not defined",
     "output_type": "error",
     "traceback": [
      "UndefVarError: ŷtest not defined",
      "",
      "Stacktrace:",
      " [1] top-level scope",
      "   @ In[8]:4"
     ]
    }
   ],
   "source": [
    "# Convert continuous prediction to predicted label using maximum score\n",
    "class_mapper = [\"Iris-setosa\", \"Iris-versicolor\", \"Iris-virginica\"]\n",
    "\n",
    "ŷ = hcat(\n",
    "    vcat(test_idx, train_idx), \n",
    "    vcat(\n",
    "        [class_mapper[cidx] for (_, cidx) in Tuple.(argmax(ŷtest, dims=2))], \n",
    "        [class_mapper[cidx] for (_, cidx) in Tuple.(argmax(ŷtrain, dims=2))]\n",
    "        )\n",
    ")\n",
    "\n",
    "first(ŷ[:,2], 3)"
   ]
  },
  {
   "cell_type": "markdown",
   "id": "effa88bc-140a-4ec1-9592-7ca17cae781c",
   "metadata": {},
   "source": [
    "Great! Our predicted labels match what we expected. Now let's assess how good is SimSpread in predicting\n",
    "the classes for the iris dataset."
   ]
  },
  {
   "cell_type": "markdown",
   "id": "1b5dc5ea-4aa4-48ba-bd84-e6d880544180",
   "metadata": {},
   "source": [
    "## Assesing predictive performance\n",
    "\n"
   ]
  },
  {
   "cell_type": "markdown",
   "id": "6b062e0b-7a2c-4cab-a41a-715e8a826e64",
   "metadata": {},
   "source": [
    "In order to have an idea of the predictive performance of the model we constructed, we will use\n",
    "two common metrics in multi-class prediction problems to evaluate the predictions for both the \n",
    "training and testing sets: \n",
    "    \n",
    "1. _Accuracy_, that indicates how close a given set of predictions are to their true value, and\n",
    "2. _Error rate_, that indicates the inverse of accuracy.\n",
    "\n",
    "Let's start with accuracy:"
   ]
  },
  {
   "cell_type": "code",
   "execution_count": 9,
   "id": "96e3e9dc-ae7d-486e-a6a8-5c7690b73429",
   "metadata": {},
   "outputs": [
    {
     "ename": "LoadError",
     "evalue": "UndefVarError: ŷ not defined",
     "output_type": "error",
     "traceback": [
      "UndefVarError: ŷ not defined",
      "",
      "Stacktrace:",
      " [1] top-level scope",
      "   @ In[9]:4"
     ]
    }
   ],
   "source": [
    "using AlgebraOfGraphics, CairoMakie\n",
    "\n",
    "# Evaluate predictions\n",
    "plt = data(\n",
    "    (\n",
    "        train = [Bool(i ∈ train_idx) for i in 1:N],\n",
    "        y = iris[!, \"class\"],\n",
    "        yhat = ŷ[sortperm(ŷ[:,1]),2]\n",
    "    )\n",
    ")\n",
    "plt *= expectation()\n",
    "plt *= mapping(\n",
    "    :y => \"Class\",   \n",
    "    (:y, :yhat) => isequal => \"Accuracy\"\n",
    ")\n",
    "plt *= mapping(col = :train => renamer(true => \"Training set\", false => \"Testing set\") => \"Dataset\")\n",
    "\n",
    "draw(plt; axis = (width = 400, height = 225))"
   ]
  },
  {
   "cell_type": "markdown",
   "id": "c63bd015-fc1c-4702-91f9-43a573362b12",
   "metadata": {},
   "source": [
    "As we can see, our proposed SimSpread model achieves high accuracy for both training and testing sets.\n",
    "\n",
    "Let's see the error rates for the same grouping:"
   ]
  },
  {
   "cell_type": "code",
   "execution_count": 10,
   "id": "6cb12a76-0002-4b9a-8754-8d3838862045",
   "metadata": {},
   "outputs": [
    {
     "ename": "LoadError",
     "evalue": "UndefVarError: ŷ not defined",
     "output_type": "error",
     "traceback": [
      "UndefVarError: ŷ not defined",
      "",
      "Stacktrace:",
      " [1] top-level scope",
      "   @ In[10]:1"
     ]
    }
   ],
   "source": [
    "plt = data(\n",
    "    (\n",
    "        train = [Bool(i ∈ train_idx) for i in 1:N],\n",
    "        y = iris[!, \"class\"],\n",
    "        yhat = ŷ[sortperm(ŷ[:,1]),2]\n",
    "    )\n",
    ")\n",
    "plt *= expectation()\n",
    "plt *= mapping(\n",
    "    :y => \"Class\",   \n",
    "    (:y, :yhat) => !isequal => \"Error rate\"\n",
    ")\n",
    "plt *= mapping(col = :train => renamer(true => \"Training set\", false => \"Testing set\") => \"Dataset\")\n",
    "\n",
    "draw(plt; axis = (width = 400, height = 225))"
   ]
  },
  {
   "cell_type": "markdown",
   "id": "626c7065-8957-478d-a81b-17dba5c3c68f",
   "metadata": {},
   "source": [
    "Here we also see goo performance, achieving low error rate for all the classes in both the training and \n",
    "testing sets. We also can appreciate that the the testing set present a higher mean error rate than the\n",
    "training set.\n",
    "\n",
    "Let's visualize where the predicted classes fall in our training and testing sets. First, lets see our\n",
    "ground truth:"
   ]
  },
  {
   "cell_type": "code",
   "execution_count": 11,
   "id": "a0901ac5-b91e-4641-b28d-b2db23b14527",
   "metadata": {},
   "outputs": [
    {
     "data": {
      "image/png": "[encoded data removed]",
      "text/plain": [
       "FigureGrid()"
      ]
     },
     "execution_count": 11,
     "metadata": {},
     "output_type": "execute_result"
    }
   ],
   "source": [
    "plt = data(\n",
    "    (\n",
    "        sepallength = iris[!, \"sepallength\"],\n",
    "        petallength = iris[!, \"petallength\"],\n",
    "        y = iris[!, \"class\"],\n",
    "    )\n",
    ")\n",
    "plt *= mapping(\n",
    "    :sepallength => \"Sepal Length (cm)\", \n",
    "    :petallength => \"Petal Length (cm)\", \n",
    "    color=:y => \"Class\"\n",
    ")\n",
    "draw(plt; axis = (width = 300, height = 300))"
   ]
  },
  {
   "cell_type": "markdown",
   "id": "3266db44-2843-4ca8-a2e8-15d85d249991",
   "metadata": {},
   "source": [
    "We can clearly see that _setosa_ plants are completely separated from the rest of\n",
    "the plants in the dataset. _Versicolor_ and _virginica_ present some overlap, which\n",
    "might respond to what we have see in the predictive performance.\n",
    "\n",
    "Let's visualize the prediction over this scatter plot to map where are the incorrect\n",
    "predictions:"
   ]
  },
  {
   "cell_type": "code",
   "execution_count": 12,
   "id": "55b58636-e0e7-4772-8fcc-f2bc08bba208",
   "metadata": {},
   "outputs": [
    {
     "ename": "LoadError",
     "evalue": "UndefVarError: ŷ not defined",
     "output_type": "error",
     "traceback": [
      "UndefVarError: ŷ not defined",
      "",
      "Stacktrace:",
      " [1] top-level scope",
      "   @ In[12]:1"
     ]
    }
   ],
   "source": [
    "plt = data(\n",
    "    (\n",
    "        sepallength = iris[!, \"sepallength\"],\n",
    "        petallength = iris[!, \"petallength\"],\n",
    "        train = [Bool(i ∈ train_idx) for i in 1:N],\n",
    "        y = iris[!, \"class\"],\n",
    "        yhat = ŷ[sortperm(ŷ[:,1]),2]\n",
    "    )\n",
    ")\n",
    "plt *= mapping(\n",
    "    :sepallength => \"Sepal Length (cm)\", \n",
    "    :petallength => \"Petal Length (cm)\", \n",
    "    col = :train => renamer(true => \"Training set\", false => \"Testing set\") => \"Dataset\", \n",
    "    row =:y => \"Class\", \n",
    "    color=:yhat => \"Predicted class\"\n",
    ")\n",
    "\n",
    "draw(plt; axis = (width = 225, height = 225))"
   ]
  },
  {
   "cell_type": "code",
   "execution_count": null,
   "id": "c52387ab-0514-4a73-8a6c-0e2f06ba42c7",
   "metadata": {},
   "outputs": [],
   "source": []
  }
 ],
 "metadata": {
  "kernelspec": {
   "display_name": "Julia 1.8.5",
   "language": "julia",
   "name": "julia-1.8"
  },
  "language_info": {
   "file_extension": ".jl",
   "mimetype": "application/julia",
   "name": "julia",
   "version": "1.8.5"
  }
 },
 "nbformat": 4,
 "nbformat_minor": 5
}
