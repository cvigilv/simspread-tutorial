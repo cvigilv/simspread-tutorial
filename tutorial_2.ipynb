{
 "cells": [
  {
   "cell_type": "markdown",
   "id": "cba897d4-445a-4445-b53e-c98d287f9df5",
   "metadata": {},
   "source": [
    "# Tutorial\n",
    "This is a simply and concise tutorial to start using SimSpread, using as example dataset the classical \"Iris\"\n",
    "dataset proposed by R.A. Fisher.\n",
    "\n",
    "First, we must install the necesary packages we will use in this tutorial:"
   ]
  },
  {
   "cell_type": "code",
   "execution_count": 1,
   "id": "094a3f32-2ec7-4bb5-8bb0-88423154b23c",
   "metadata": {
    "tags": []
   },
   "outputs": [
    {
     "name": "stderr",
     "output_type": "stream",
     "text": [
      "\u001b[32m\u001b[1m   Resolving\u001b[22m\u001b[39m package versions...\n",
      "\u001b[32m\u001b[1m  No Changes\u001b[22m\u001b[39m to `~/.julia/environments/v1.9/Project.toml`\n",
      "\u001b[32m\u001b[1m  No Changes\u001b[22m\u001b[39m to `~/.julia/environments/v1.9/Manifest.toml`\n",
      "\u001b[32m\u001b[1m    Updating\u001b[22m\u001b[39m git-repo `https://github.com/cvigilv/SimSpread.jl.git`\n",
      "\u001b[32m\u001b[1m   Resolving\u001b[22m\u001b[39m package versions...\n",
      "\u001b[32m\u001b[1m    Updating\u001b[22m\u001b[39m `~/.julia/environments/v1.9/Project.toml`\n",
      "  \u001b[90m[afa5cc60] \u001b[39m\u001b[93m~ SimSpread v0.1.0 `https://github.com/cvigilv/SimSpread.jl.git#develop` ⇒ v0.1.0 `https://github.com/cvigilv/SimSpread.jl.git#develop`\u001b[39m\n",
      "\u001b[32m\u001b[1m    Updating\u001b[22m\u001b[39m `~/.julia/environments/v1.9/Manifest.toml`\n",
      "  \u001b[90m[afa5cc60] \u001b[39m\u001b[93m~ SimSpread v0.1.0 `https://github.com/cvigilv/SimSpread.jl.git#develop` ⇒ v0.1.0 `https://github.com/cvigilv/SimSpread.jl.git#develop`\u001b[39m\n",
      "\u001b[32m\u001b[1mPrecompiling\u001b[22m\u001b[39m project...\n",
      "\u001b[32m  ✓ \u001b[39mSimSpread\n",
      "  1 dependency successfully precompiled in 4 seconds. 324 already precompiled.\n"
     ]
    }
   ],
   "source": [
    "import Pkg; Pkg.add([\"DelimitedFiles\", \"NamedArrays\", \"DataFrames\", \"Chain\", \"AlgebraOfGraphics\", \"CairoMakie\", \"ColorSchemes\"])\n",
    "Pkg.add(url=\"https://github.com/cvigilv/SimSpread.jl.git\", rev=\"develop\")"
   ]
  },
  {
   "cell_type": "code",
   "execution_count": 2,
   "id": "18af9f05-7dea-48d7-96e1-bc34e0ae66a6",
   "metadata": {
    "tags": []
   },
   "outputs": [],
   "source": [
    "using NamedArrays, DelimitedFiles\n",
    "\n",
    "function url2namedmatrix(url; delim = \"\\t\")\n",
    "    M = readdlm(download(url, delim))\n",
    "    \n",
    "    sources = String.(M[1, begin:end-1])\n",
    "    targets = String.(M[begin+1:end, 1])\n",
    "    adjacency = Matrix{Float64}(M[begin+1:end, begin+1:end])\n",
    "    \n",
    "    return NamedArray(adjacency', (sources, targets))\n",
    "end\n",
    "\n",
    "# http://web.kuicr.kyoto-u.ac.jp/supp/yoshi/drugtarget/\n",
    "DT = url2namedmatrix(\"http://web.kuicr.kyoto-u.ac.jp/supp/yoshi/drugtarget/nr_admat_dgc.txt\")\n",
    "DD = url2namedmatrix(\"http://web.kuicr.kyoto-u.ac.jp/supp/yoshi/drugtarget/nr_simmat_dc.txt\");"
   ]
  },
  {
   "cell_type": "markdown",
   "id": "a3e9e710-139d-425b-ad47-448ff893e5de",
   "metadata": {},
   "source": [
    "## Data splitting"
   ]
  },
  {
   "cell_type": "code",
   "execution_count": 3,
   "id": "9b2e5547-40ca-4989-993f-a19dceaa9e4c",
   "metadata": {
    "tags": []
   },
   "outputs": [
    {
     "name": "stdout",
     "output_type": "stream",
     "text": [
      "Training set:\n"
     ]
    },
    {
     "data": {
      "text/plain": [
       "5×44 Named Matrix{Float64}\n",
       " A ╲ B │   D00040    D00066    D00067  …    D02217    D04066    D05341\n",
       "───────┼──────────────────────────────────────────────────────────────\n",
       "D00040 │      1.0  0.545455  0.297297  …     0.125  0.295455  0.095238\n",
       "D00066 │ 0.545455       1.0  0.387097     0.115385       0.3     0.025\n",
       "D00067 │ 0.297297  0.387097       1.0         0.25   0.53125  0.027027\n",
       "D00075 │  0.53125  0.833333  0.464286     0.098039  0.351351  0.026316\n",
       "D00088 │ 0.459459  0.689655  0.352941  …  0.150943   0.27907  0.047619"
      ]
     },
     "metadata": {},
     "output_type": "display_data"
    },
    {
     "data": {
      "text/plain": [
       "5×26 Named Matrix{Float64}\n",
       " A ╲ B │  hsa190  hsa2099  hsa2100  …  hsa8856  hsa9970  hsa9971\n",
       "───────┼────────────────────────────────────────────────────────\n",
       "D00040 │     0.0      0.0      0.0  …      0.0      0.0      0.0\n",
       "D00066 │     0.0      1.0      0.0         0.0      0.0      0.0\n",
       "D00067 │     0.0      1.0      0.0         0.0      0.0      0.0\n",
       "D00075 │     0.0      0.0      0.0         0.0      0.0      0.0\n",
       "D00088 │     0.0      0.0      0.0  …      0.0      0.0      0.0"
      ]
     },
     "metadata": {},
     "output_type": "display_data"
    },
    {
     "name": "stdout",
     "output_type": "stream",
     "text": [
      "\n",
      "Testing set:\n"
     ]
    },
    {
     "data": {
      "text/plain": [
       "5×44 Named Matrix{Float64}\n",
       " A ╲ B │   D00040    D00066    D00067  …    D02217    D04066    D05341\n",
       "───────┼──────────────────────────────────────────────────────────────\n",
       "D01132 │ 0.104167  0.116279      0.25  …  0.304348  0.285714   0.04878\n",
       "D02367 │ 0.378378    0.4375   0.30303     0.115385  0.238095  0.051282\n",
       "D00627 │ 0.080645  0.050847  0.113208     0.254237  0.152542      0.14\n",
       "D00182 │ 0.428571  0.607143  0.448276     0.096154  0.307692  0.025641\n",
       "D00951 │ 0.473684       0.7  0.297297  …  0.105263  0.295455  0.022222"
      ]
     },
     "metadata": {},
     "output_type": "display_data"
    },
    {
     "data": {
      "text/plain": [
       "5×26 Named Matrix{Float64}\n",
       " A ╲ B │  hsa190  hsa2099  hsa2100  …  hsa8856  hsa9970  hsa9971\n",
       "───────┼────────────────────────────────────────────────────────\n",
       "D01132 │     0.0      0.0      0.0  …      0.0      0.0      0.0\n",
       "D02367 │     0.0      1.0      0.0         0.0      0.0      0.0\n",
       "D00627 │     0.0      0.0      0.0         0.0      0.0      0.0\n",
       "D00182 │     0.0      0.0      0.0         0.0      0.0      0.0\n",
       "D00951 │     0.0      0.0      0.0  …      0.0      0.0      0.0"
      ]
     },
     "metadata": {},
     "output_type": "display_data"
    }
   ],
   "source": [
    "using SimSpread\n",
    "\n",
    "# Split dataset in 10 groups and keep first\n",
    "test_idx = first(split(DT, 5; seed = 0))\n",
    "train_idx = [s for s in names(DT,1) if s ∉ test_idx]\n",
    "\n",
    "# Split features and interactions\n",
    "Xtrain = DD[train_idx, train_idx]\n",
    "Xtest  = DD[test_idx, train_idx]\n",
    "ytrain = DT[train_idx, :]\n",
    "ytest  = DT[test_idx, :]\n",
    "\n",
    "println(\"Training set:\")\n",
    "display(Xtrain[1:5, :])\n",
    "display(ytrain[1:5, :])\n",
    "println(\"\\nTesting set:\")\n",
    "display(Xtest[1:5, :])\n",
    "display(ytest[1:5, :])"
   ]
  },
  {
   "cell_type": "markdown",
   "id": "0c1e1f0d-8d46-4f8d-ae6f-7f313ca63acd",
   "metadata": {},
   "source": [
    "## Meta-description construction"
   ]
  },
  {
   "cell_type": "code",
   "execution_count": 4,
   "id": "105a1549-7b63-4ab2-8ea3-480789fcab28",
   "metadata": {
    "tags": []
   },
   "outputs": [
    {
     "data": {
      "text/plain": [
       "124×124 Named Matrix{Float64}\n",
       "  A ╲ B │   D01132    D02367    D00627  …   hsa8856   hsa9970   hsa9971\n",
       "────────┼──────────────────────────────────────────────────────────────\n",
       "D01132  │      0.0       0.0       0.0  …       0.0       0.0       0.0\n",
       "D02367  │      0.0       0.0       0.0          0.0       0.0       0.0\n",
       "D00627  │      0.0       0.0       0.0          0.0       0.0       0.0\n",
       "D00182  │      0.0       0.0       0.0          0.0       0.0       0.0\n",
       "D00951  │      0.0       0.0       0.0          0.0       0.0       0.0\n",
       "D01441  │      0.0       0.0       0.0          0.0       0.0       0.0\n",
       "D01387  │      0.0       0.0       0.0          0.0       0.0       0.0\n",
       "D00961  │      0.0       0.0       0.0          0.0       0.0       0.0\n",
       "D00506  │      0.0       0.0       0.0          0.0       0.0       0.0\n",
       "D01115  │      0.0       0.0       0.0          0.0       0.0       0.0\n",
       "D00040  │      0.0       0.0       0.0          0.0       0.0       0.0\n",
       "⋮                ⋮         ⋮         ⋮  ⋱         ⋮         ⋮         ⋮\n",
       "hsa5916 │      0.0       0.0       0.0          0.0       0.0       0.0\n",
       "hsa6095 │      0.0       0.0       0.0          0.0       0.0       0.0\n",
       "hsa6096 │      0.0       0.0       0.0          0.0       0.0       0.0\n",
       "hsa6097 │      0.0       0.0       0.0          0.0       0.0       0.0\n",
       "hsa6256 │      0.0       0.0       0.0          0.0       0.0       0.0\n",
       "hsa6257 │      0.0       0.0       0.0          0.0       0.0       0.0\n",
       "hsa6258 │      0.0       0.0       0.0          0.0       0.0       0.0\n",
       "hsa7421 │      0.0       0.0       0.0          0.0       0.0       0.0\n",
       "hsa8856 │      0.0       0.0       0.0          0.0       0.0       0.0\n",
       "hsa9970 │      0.0       0.0       0.0          0.0       0.0       0.0\n",
       "hsa9971 │      0.0       0.0       0.0  …       0.0       0.0       0.0"
      ]
     },
     "metadata": {},
     "output_type": "display_data"
    }
   ],
   "source": [
    "# Generate meta-description from similarity measurements\n",
    "α = 0.5\n",
    "Xtrain′ = featurize(Xtrain, α, true)\n",
    "Xtest′ = featurize(Xtest, α, true)\n",
    "\n",
    "# Construct feature-source-target graph for predictions\n",
    "G = construct(ytrain, ytest, Xtrain′, Xtest′)\n",
    "display(first(G))"
   ]
  },
  {
   "cell_type": "markdown",
   "id": "7a2e7306-9ecf-4edf-b0d9-3133f8ee86d0",
   "metadata": {},
   "source": [
    "## Target prediction with SimSpread"
   ]
  },
  {
   "cell_type": "code",
   "execution_count": 5,
   "id": "ea4be735-fc7e-4d94-896a-091f4eaa1b74",
   "metadata": {},
   "outputs": [
    {
     "data": {
      "text/plain": [
       "10×26 Named Matrix{Float64}\n",
       " A ╲ B │     hsa190     hsa2099  …     hsa9970     hsa9971\n",
       "───────┼──────────────────────────────────────────────────\n",
       "D01132 │        0.0         0.0  …         0.0         0.0\n",
       "D02367 │        0.0    0.146243            0.0         0.0\n",
       "D00627 │        0.0         0.0            0.0         0.0\n",
       "D00182 │        0.0    0.306052            0.0  0.00545455\n",
       "D00951 │        0.0    0.168493            0.0  0.00595042\n",
       "D01441 │        0.0         0.0            0.0         0.0\n",
       "D01387 │        0.0  0.00466831            0.0         0.0\n",
       "D00961 │        0.0         0.0            0.0         0.0\n",
       "D00506 │        0.0         0.0            0.0         0.0\n",
       "D01115 │        0.0   0.0180301  …         0.0         0.0"
      ]
     },
     "execution_count": 5,
     "metadata": {},
     "output_type": "execute_result"
    }
   ],
   "source": [
    "# Predict\n",
    "ŷtrain = predict(G, ytrain; GPU = true)\n",
    "ŷtest = predict(G, ytest; GPU = true)"
   ]
  },
  {
   "cell_type": "markdown",
   "id": "1b5dc5ea-4aa4-48ba-bd84-e6d880544180",
   "metadata": {},
   "source": [
    "## Assesing predictive performance\n",
    "\n"
   ]
  },
  {
   "cell_type": "code",
   "execution_count": 6,
   "id": "852a37cf-3ffc-489e-bb30-f59d636f5185",
   "metadata": {
    "tags": []
   },
   "outputs": [
    {
     "data": {
      "text/html": [
       "<div><div style = \"float: left;\"><span>5×6 DataFrame</span></div><div style = \"clear: both;\"></div></div><div class = \"data-frame\" style = \"overflow-x: scroll;\"><table class = \"data-frame\" style = \"margin-bottom: 6px;\"><thead><tr class = \"header\"><th class = \"rowNumber\" style = \"font-weight: bold; text-align: right;\">Row</th><th style = \"text-align: left;\">alpha</th><th style = \"text-align: left;\">lig</th><th style = \"text-align: left;\">trg</th><th style = \"text-align: left;\">yhat</th><th style = \"text-align: left;\">y</th><th style = \"text-align: left;\">train</th></tr><tr class = \"subheader headerLastRow\"><th class = \"rowNumber\" style = \"font-weight: bold; text-align: right;\"></th><th title = \"Any\" style = \"text-align: left;\">Any</th><th title = \"Any\" style = \"text-align: left;\">Any</th><th title = \"Any\" style = \"text-align: left;\">Any</th><th title = \"Any\" style = \"text-align: left;\">Any</th><th title = \"Any\" style = \"text-align: left;\">Any</th><th title = \"Any\" style = \"text-align: left;\">Any</th></tr></thead><tbody><tr><td class = \"rowNumber\" style = \"font-weight: bold; text-align: right;\">1</td><td style = \"text-align: left;\">0.5</td><td style = \"text-align: left;\">D00040</td><td style = \"text-align: left;\">hsa190</td><td style = \"text-align: left;\">0.0</td><td style = \"text-align: left;\">0.0</td><td style = \"text-align: left;\">true</td></tr><tr><td class = \"rowNumber\" style = \"font-weight: bold; text-align: right;\">2</td><td style = \"text-align: left;\">0.5</td><td style = \"text-align: left;\">D00066</td><td style = \"text-align: left;\">hsa190</td><td style = \"text-align: left;\">0.0</td><td style = \"text-align: left;\">0.0</td><td style = \"text-align: left;\">true</td></tr><tr><td class = \"rowNumber\" style = \"font-weight: bold; text-align: right;\">3</td><td style = \"text-align: left;\">0.5</td><td style = \"text-align: left;\">D00067</td><td style = \"text-align: left;\">hsa190</td><td style = \"text-align: left;\">0.0</td><td style = \"text-align: left;\">0.0</td><td style = \"text-align: left;\">true</td></tr><tr><td class = \"rowNumber\" style = \"font-weight: bold; text-align: right;\">4</td><td style = \"text-align: left;\">0.5</td><td style = \"text-align: left;\">D00075</td><td style = \"text-align: left;\">hsa190</td><td style = \"text-align: left;\">0.0</td><td style = \"text-align: left;\">0.0</td><td style = \"text-align: left;\">true</td></tr><tr><td class = \"rowNumber\" style = \"font-weight: bold; text-align: right;\">5</td><td style = \"text-align: left;\">0.5</td><td style = \"text-align: left;\">D00088</td><td style = \"text-align: left;\">hsa190</td><td style = \"text-align: left;\">0.0</td><td style = \"text-align: left;\">0.0</td><td style = \"text-align: left;\">true</td></tr></tbody></table></div>"
      ],
      "text/latex": [
       "\\begin{tabular}{r|cccccc}\n",
       "\t& alpha & lig & trg & yhat & y & train\\\\\n",
       "\t\\hline\n",
       "\t& Any & Any & Any & Any & Any & Any\\\\\n",
       "\t\\hline\n",
       "\t1 & 0.5 & D00040 & hsa190 & 0.0 & 0.0 & 1 \\\\\n",
       "\t2 & 0.5 & D00066 & hsa190 & 0.0 & 0.0 & 1 \\\\\n",
       "\t3 & 0.5 & D00067 & hsa190 & 0.0 & 0.0 & 1 \\\\\n",
       "\t4 & 0.5 & D00075 & hsa190 & 0.0 & 0.0 & 1 \\\\\n",
       "\t5 & 0.5 & D00088 & hsa190 & 0.0 & 0.0 & 1 \\\\\n",
       "\\end{tabular}\n"
      ],
      "text/plain": [
       "\u001b[1m5×6 DataFrame\u001b[0m\n",
       "\u001b[1m Row \u001b[0m│\u001b[1m alpha \u001b[0m\u001b[1m lig    \u001b[0m\u001b[1m trg    \u001b[0m\u001b[1m yhat \u001b[0m\u001b[1m y   \u001b[0m\u001b[1m train \u001b[0m\n",
       "     │\u001b[90m Any   \u001b[0m\u001b[90m Any    \u001b[0m\u001b[90m Any    \u001b[0m\u001b[90m Any  \u001b[0m\u001b[90m Any \u001b[0m\u001b[90m Any   \u001b[0m\n",
       "─────┼─────────────────────────────────────────\n",
       "   1 │ 0.5    D00040  hsa190  0.0   0.0  true\n",
       "   2 │ 0.5    D00066  hsa190  0.0   0.0  true\n",
       "   3 │ 0.5    D00067  hsa190  0.0   0.0  true\n",
       "   4 │ 0.5    D00075  hsa190  0.0   0.0  true\n",
       "   5 │ 0.5    D00088  hsa190  0.0   0.0  true"
      ]
     },
     "execution_count": 6,
     "metadata": {},
     "output_type": "execute_result"
    }
   ],
   "source": [
    "using DataFrames\n",
    "\n",
    "preds = DataFrame(alpha = [], lig = [], trg = [], yhat = [], y = [], train = [])\n",
    "\n",
    "for (st, score) in enamerate(ŷtrain)\n",
    "    s,t = st\n",
    "    push!(preds, [α, s, t, score, ytrain[s, t], true])\n",
    "end\n",
    "\n",
    "for (st, score) in enamerate(ŷtest)\n",
    "    s,t = st\n",
    "    push!(preds, [α, s, t, score, ytest[s, t], false])\n",
    "end\n",
    "\n",
    "first(preds, 5)"
   ]
  },
  {
   "cell_type": "code",
   "execution_count": 7,
   "id": "3a023362-8f9d-4c65-ba6f-91fd6ef2c7bd",
   "metadata": {
    "tags": []
   },
   "outputs": [
    {
     "data": {
      "text/html": [
       "<div><div style = \"float: left;\"><span>54×5 DataFrame</span></div><div style = \"float: right;\"><span style = \"font-style: italic;\">29 rows omitted</span></div><div style = \"clear: both;\"></div></div><div class = \"data-frame\" style = \"overflow-x: scroll;\"><table class = \"data-frame\" style = \"margin-bottom: 6px;\"><thead><tr class = \"header\"><th class = \"rowNumber\" style = \"font-weight: bold; text-align: right;\">Row</th><th style = \"text-align: left;\">lig</th><th style = \"text-align: left;\">train</th><th style = \"text-align: left;\">AuROC</th><th style = \"text-align: left;\">AuPRC</th><th style = \"text-align: left;\">BEDROC</th></tr><tr class = \"subheader headerLastRow\"><th class = \"rowNumber\" style = \"font-weight: bold; text-align: right;\"></th><th title = \"Any\" style = \"text-align: left;\">Any</th><th title = \"Any\" style = \"text-align: left;\">Any</th><th title = \"Float64\" style = \"text-align: left;\">Float64</th><th title = \"Float64\" style = \"text-align: left;\">Float64</th><th title = \"Float64\" style = \"text-align: left;\">Float64</th></tr></thead><tbody><tr><td class = \"rowNumber\" style = \"font-weight: bold; text-align: right;\">1</td><td style = \"text-align: left;\">D00040</td><td style = \"text-align: left;\">true</td><td style = \"text-align: right;\">0.96</td><td style = \"text-align: right;\">0.25</td><td style = \"text-align: right;\">0.463369</td></tr><tr><td class = \"rowNumber\" style = \"font-weight: bold; text-align: right;\">2</td><td style = \"text-align: left;\">D00066</td><td style = \"text-align: left;\">true</td><td style = \"text-align: right;\">1.0</td><td style = \"text-align: right;\">0.5</td><td style = \"text-align: right;\">1.0</td></tr><tr><td class = \"rowNumber\" style = \"font-weight: bold; text-align: right;\">3</td><td style = \"text-align: left;\">D00067</td><td style = \"text-align: left;\">true</td><td style = \"text-align: right;\">1.0</td><td style = \"text-align: right;\">0.0</td><td style = \"text-align: right;\">1.0</td></tr><tr><td class = \"rowNumber\" style = \"font-weight: bold; text-align: right;\">4</td><td style = \"text-align: left;\">D00075</td><td style = \"text-align: left;\">true</td><td style = \"text-align: right;\">1.0</td><td style = \"text-align: right;\">0.0</td><td style = \"text-align: right;\">1.0</td></tr><tr><td class = \"rowNumber\" style = \"font-weight: bold; text-align: right;\">5</td><td style = \"text-align: left;\">D00088</td><td style = \"text-align: left;\">true</td><td style = \"text-align: right;\">1.0</td><td style = \"text-align: right;\">0.0</td><td style = \"text-align: right;\">1.0</td></tr><tr><td class = \"rowNumber\" style = \"font-weight: bold; text-align: right;\">6</td><td style = \"text-align: left;\">D00094</td><td style = \"text-align: left;\">true</td><td style = \"text-align: right;\">1.0</td><td style = \"text-align: right;\">0.888889</td><td style = \"text-align: right;\">1.0</td></tr><tr><td class = \"rowNumber\" style = \"font-weight: bold; text-align: right;\">7</td><td style = \"text-align: left;\">D00105</td><td style = \"text-align: left;\">true</td><td style = \"text-align: right;\">1.0</td><td style = \"text-align: right;\">0.5</td><td style = \"text-align: right;\">1.0</td></tr><tr><td class = \"rowNumber\" style = \"font-weight: bold; text-align: right;\">8</td><td style = \"text-align: left;\">D00129</td><td style = \"text-align: left;\">true</td><td style = \"text-align: right;\">1.0</td><td style = \"text-align: right;\">0.0</td><td style = \"text-align: right;\">1.0</td></tr><tr><td class = \"rowNumber\" style = \"font-weight: bold; text-align: right;\">9</td><td style = \"text-align: left;\">D00143</td><td style = \"text-align: left;\">true</td><td style = \"text-align: right;\">1.0</td><td style = \"text-align: right;\">0.0</td><td style = \"text-align: right;\">1.0</td></tr><tr><td class = \"rowNumber\" style = \"font-weight: bold; text-align: right;\">10</td><td style = \"text-align: left;\">D00163</td><td style = \"text-align: left;\">true</td><td style = \"text-align: right;\">1.0</td><td style = \"text-align: right;\">0.0</td><td style = \"text-align: right;\">1.0</td></tr><tr><td class = \"rowNumber\" style = \"font-weight: bold; text-align: right;\">11</td><td style = \"text-align: left;\">D00187</td><td style = \"text-align: left;\">true</td><td style = \"text-align: right;\">1.0</td><td style = \"text-align: right;\">0.0</td><td style = \"text-align: right;\">1.0</td></tr><tr><td class = \"rowNumber\" style = \"font-weight: bold; text-align: right;\">12</td><td style = \"text-align: left;\">D00188</td><td style = \"text-align: left;\">true</td><td style = \"text-align: right;\">1.0</td><td style = \"text-align: right;\">0.0</td><td style = \"text-align: right;\">1.0</td></tr><tr><td class = \"rowNumber\" style = \"font-weight: bold; text-align: right;\">13</td><td style = \"text-align: left;\">D00211</td><td style = \"text-align: left;\">true</td><td style = \"text-align: right;\">1.0</td><td style = \"text-align: right;\">0.0</td><td style = \"text-align: right;\">1.0</td></tr><tr><td style = \"text-align: right;\">&vellip;</td><td style = \"text-align: right;\">&vellip;</td><td style = \"text-align: right;\">&vellip;</td><td style = \"text-align: right;\">&vellip;</td><td style = \"text-align: right;\">&vellip;</td><td style = \"text-align: right;\">&vellip;</td></tr><tr><td class = \"rowNumber\" style = \"font-weight: bold; text-align: right;\">43</td><td style = \"text-align: left;\">D04066</td><td style = \"text-align: left;\">true</td><td style = \"text-align: right;\">1.0</td><td style = \"text-align: right;\">0.5</td><td style = \"text-align: right;\">1.0</td></tr><tr><td class = \"rowNumber\" style = \"font-weight: bold; text-align: right;\">44</td><td style = \"text-align: left;\">D05341</td><td style = \"text-align: left;\">true</td><td style = \"text-align: right;\">1.0</td><td style = \"text-align: right;\">0.0</td><td style = \"text-align: right;\">1.0</td></tr><tr><td class = \"rowNumber\" style = \"font-weight: bold; text-align: right;\">45</td><td style = \"text-align: left;\">D01132</td><td style = \"text-align: left;\">false</td><td style = \"text-align: right;\">0.0</td><td style = \"text-align: right;\">0.0</td><td style = \"text-align: right;\">4.21569e-5</td></tr><tr><td class = \"rowNumber\" style = \"font-weight: bold; text-align: right;\">46</td><td style = \"text-align: left;\">D02367</td><td style = \"text-align: left;\">false</td><td style = \"text-align: right;\">1.0</td><td style = \"text-align: right;\">0.5</td><td style = \"text-align: right;\">1.0</td></tr><tr><td class = \"rowNumber\" style = \"font-weight: bold; text-align: right;\">47</td><td style = \"text-align: left;\">D00627</td><td style = \"text-align: left;\">false</td><td style = \"text-align: right;\">0.0</td><td style = \"text-align: right;\">0.0</td><td style = \"text-align: right;\">9.79734e-5</td></tr><tr><td class = \"rowNumber\" style = \"font-weight: bold; text-align: right;\">48</td><td style = \"text-align: left;\">D00182</td><td style = \"text-align: left;\">false</td><td style = \"text-align: right;\">0.96</td><td style = \"text-align: right;\">0.25</td><td style = \"text-align: right;\">0.463369</td></tr><tr><td class = \"rowNumber\" style = \"font-weight: bold; text-align: right;\">49</td><td style = \"text-align: left;\">D00951</td><td style = \"text-align: left;\">false</td><td style = \"text-align: right;\">1.0</td><td style = \"text-align: right;\">0.0</td><td style = \"text-align: right;\">1.0</td></tr><tr><td class = \"rowNumber\" style = \"font-weight: bold; text-align: right;\">50</td><td style = \"text-align: left;\">D01441</td><td style = \"text-align: left;\">false</td><td style = \"text-align: right;\">0.0</td><td style = \"text-align: right;\">0.0</td><td style = \"text-align: right;\">4.51242e-6</td></tr><tr><td class = \"rowNumber\" style = \"font-weight: bold; text-align: right;\">51</td><td style = \"text-align: left;\">D01387</td><td style = \"text-align: left;\">false</td><td style = \"text-align: right;\">1.0</td><td style = \"text-align: right;\">0.0</td><td style = \"text-align: right;\">1.0</td></tr><tr><td class = \"rowNumber\" style = \"font-weight: bold; text-align: right;\">52</td><td style = \"text-align: left;\">D00961</td><td style = \"text-align: left;\">false</td><td style = \"text-align: right;\">0.0</td><td style = \"text-align: right;\">0.0</td><td style = \"text-align: right;\">0.00212529</td></tr><tr><td class = \"rowNumber\" style = \"font-weight: bold; text-align: right;\">53</td><td style = \"text-align: left;\">D00506</td><td style = \"text-align: left;\">false</td><td style = \"text-align: right;\">0.0</td><td style = \"text-align: right;\">0.0</td><td style = \"text-align: right;\">5.15147e-9</td></tr><tr><td class = \"rowNumber\" style = \"font-weight: bold; text-align: right;\">54</td><td style = \"text-align: left;\">D01115</td><td style = \"text-align: left;\">false</td><td style = \"text-align: right;\">0.88</td><td style = \"text-align: right;\">0.125</td><td style = \"text-align: right;\">0.0994906</td></tr></tbody></table></div>"
      ],
      "text/latex": [
       "\\begin{tabular}{r|ccccc}\n",
       "\t& lig & train & AuROC & AuPRC & BEDROC\\\\\n",
       "\t\\hline\n",
       "\t& Any & Any & Float64 & Float64 & Float64\\\\\n",
       "\t\\hline\n",
       "\t1 & D00040 & 1 & 0.96 & 0.25 & 0.463369 \\\\\n",
       "\t2 & D00066 & 1 & 1.0 & 0.5 & 1.0 \\\\\n",
       "\t3 & D00067 & 1 & 1.0 & 0.0 & 1.0 \\\\\n",
       "\t4 & D00075 & 1 & 1.0 & 0.0 & 1.0 \\\\\n",
       "\t5 & D00088 & 1 & 1.0 & 0.0 & 1.0 \\\\\n",
       "\t6 & D00094 & 1 & 1.0 & 0.888889 & 1.0 \\\\\n",
       "\t7 & D00105 & 1 & 1.0 & 0.5 & 1.0 \\\\\n",
       "\t8 & D00129 & 1 & 1.0 & 0.0 & 1.0 \\\\\n",
       "\t9 & D00143 & 1 & 1.0 & 0.0 & 1.0 \\\\\n",
       "\t10 & D00163 & 1 & 1.0 & 0.0 & 1.0 \\\\\n",
       "\t11 & D00187 & 1 & 1.0 & 0.0 & 1.0 \\\\\n",
       "\t12 & D00188 & 1 & 1.0 & 0.0 & 1.0 \\\\\n",
       "\t13 & D00211 & 1 & 1.0 & 0.0 & 1.0 \\\\\n",
       "\t14 & D00246 & 1 & 1.0 & 0.0 & 1.0 \\\\\n",
       "\t15 & D00279 & 1 & 1.0 & 0.0 & 1.0 \\\\\n",
       "\t16 & D00299 & 1 & 1.0 & 0.0 & 1.0 \\\\\n",
       "\t17 & D00312 & 1 & 1.0 & 0.0 & 1.0 \\\\\n",
       "\t18 & D00316 & 1 & 1.0 & 0.833333 & 1.0 \\\\\n",
       "\t19 & D00327 & 1 & 1.0 & 0.5 & 1.0 \\\\\n",
       "\t20 & D00348 & 1 & 1.0 & 0.0 & 1.0 \\\\\n",
       "\t21 & D00443 & 1 & 1.0 & 0.0 & 1.0 \\\\\n",
       "\t22 & D00462 & 1 & 1.0 & 0.0 & 1.0 \\\\\n",
       "\t23 & D00554 & 1 & 1.0 & 0.0 & 1.0 \\\\\n",
       "\t24 & D00565 & 1 & 1.0 & 0.0 & 1.0 \\\\\n",
       "\t25 & D00577 & 1 & 1.0 & 0.8 & 1.0 \\\\\n",
       "\t26 & D00585 & 1 & 1.0 & 0.75 & 1.0 \\\\\n",
       "\t27 & D00586 & 1 & 1.0 & 0.0 & 1.0 \\\\\n",
       "\t28 & D00596 & 1 & 1.0 & 0.0 & 1.0 \\\\\n",
       "\t29 & D00690 & 1 & 1.0 & 0.0 & 1.0 \\\\\n",
       "\t30 & D00730 & 1 & 1.0 & 0.0 & 1.0 \\\\\n",
       "\t$\\dots$ & $\\dots$ & $\\dots$ & $\\dots$ & $\\dots$ & $\\dots$ \\\\\n",
       "\\end{tabular}\n"
      ],
      "text/plain": [
       "\u001b[1m54×5 DataFrame\u001b[0m\n",
       "\u001b[1m Row \u001b[0m│\u001b[1m lig    \u001b[0m\u001b[1m train \u001b[0m\u001b[1m AuROC   \u001b[0m\u001b[1m AuPRC    \u001b[0m\u001b[1m BEDROC     \u001b[0m\n",
       "     │\u001b[90m Any    \u001b[0m\u001b[90m Any   \u001b[0m\u001b[90m Float64 \u001b[0m\u001b[90m Float64  \u001b[0m\u001b[90m Float64    \u001b[0m\n",
       "─────┼──────────────────────────────────────────────\n",
       "   1 │ D00040  true      0.96  0.25      0.463369\n",
       "   2 │ D00066  true      1.0   0.5       1.0\n",
       "   3 │ D00067  true      1.0   0.0       1.0\n",
       "   4 │ D00075  true      1.0   0.0       1.0\n",
       "   5 │ D00088  true      1.0   0.0       1.0\n",
       "   6 │ D00094  true      1.0   0.888889  1.0\n",
       "   7 │ D00105  true      1.0   0.5       1.0\n",
       "   8 │ D00129  true      1.0   0.0       1.0\n",
       "   9 │ D00143  true      1.0   0.0       1.0\n",
       "  10 │ D00163  true      1.0   0.0       1.0\n",
       "  11 │ D00187  true      1.0   0.0       1.0\n",
       "  ⋮  │   ⋮       ⋮       ⋮        ⋮          ⋮\n",
       "  45 │ D01132  false     0.0   0.0       4.21569e-5\n",
       "  46 │ D02367  false     1.0   0.5       1.0\n",
       "  47 │ D00627  false     0.0   0.0       9.79734e-5\n",
       "  48 │ D00182  false     0.96  0.25      0.463369\n",
       "  49 │ D00951  false     1.0   0.0       1.0\n",
       "  50 │ D01441  false     0.0   0.0       4.51242e-6\n",
       "  51 │ D01387  false     1.0   0.0       1.0\n",
       "  52 │ D00961  false     0.0   0.0       0.00212529\n",
       "  53 │ D00506  false     0.0   0.0       5.15147e-9\n",
       "  54 │ D01115  false     0.88  0.125     0.0994906\n",
       "\u001b[36m                                     33 rows omitted\u001b[0m"
      ]
     },
     "execution_count": 7,
     "metadata": {},
     "output_type": "execute_result"
    }
   ],
   "source": [
    "gpreds = groupby(preds, [:lig, :train])\n",
    "perf = combine(\n",
    "    gpreds, \n",
    "    [:y, :yhat] => ((x,y) -> SimSpread.AuROC(Bool.(x), Float64.(y))) => \"AuROC\",\n",
    "    [:y, :yhat] => ((x,y) -> SimSpread.AuPRC(Bool.(x), Float64.(y))) => \"AuPRC\",\n",
    "    [:y, :yhat] => ((x,y) -> SimSpread.BEDROC(Bool.(x), Float64.(y))) => \"BEDROC\",\n",
    ")"
   ]
  },
  {
   "cell_type": "code",
   "execution_count": 8,
   "id": "96e3e9dc-ae7d-486e-a6a8-5c7690b73429",
   "metadata": {},
   "outputs": [
    {
     "data": {
      "image/png": "[encoded data removed]",
      "text/plain": [
       "FigureGrid()"
      ]
     },
     "execution_count": 8,
     "metadata": {},
     "output_type": "execute_result"
    }
   ],
   "source": [
    "using AlgebraOfGraphics, CairoMakie\n",
    "\n",
    "# Evaluate predictions\n",
    "plt = data(perf)\n",
    "plt *= expectation()\n",
    "plt *= mapping(\n",
    "    :train => renamer(true => \"Training set\", false => \"Testing set\") => \"Dataset\", \n",
    "    :AuPRC\n",
    ")\n",
    "\n",
    "draw(plt; axis = (width = 400, height = 225))"
   ]
  },
  {
   "cell_type": "markdown",
   "id": "6346968a-b8a8-4b6f-8287-1f5602f3da2e",
   "metadata": {},
   "source": [
    "# Wrapping it all up"
   ]
  },
  {
   "cell_type": "code",
   "execution_count": 25,
   "id": "bc0ff981-c36d-4cef-a4f7-83e74701cdd3",
   "metadata": {
    "tags": []
   },
   "outputs": [
    {
     "data": {
      "text/html": [
       "<div><div style = \"float: left;\"><span>6804×5 DataFrame</span></div><div style = \"float: right;\"><span style = \"font-style: italic;\">6779 rows omitted</span></div><div style = \"clear: both;\"></div></div><div class = \"data-frame\" style = \"overflow-x: scroll;\"><table class = \"data-frame\" style = \"margin-bottom: 6px;\"><thead><tr class = \"header\"><th class = \"rowNumber\" style = \"font-weight: bold; text-align: right;\">Row</th><th style = \"text-align: left;\">alpha</th><th style = \"text-align: left;\">lig</th><th style = \"text-align: left;\">train</th><th style = \"text-align: left;\">metric</th><th style = \"text-align: left;\">performance</th></tr><tr class = \"subheader headerLastRow\"><th class = \"rowNumber\" style = \"font-weight: bold; text-align: right;\"></th><th title = \"Any\" style = \"text-align: left;\">Any</th><th title = \"Any\" style = \"text-align: left;\">Any</th><th title = \"Any\" style = \"text-align: left;\">Any</th><th title = \"String\" style = \"text-align: left;\">String</th><th title = \"Float64\" style = \"text-align: left;\">Float64</th></tr></thead><tbody><tr><td class = \"rowNumber\" style = \"font-weight: bold; text-align: right;\">1</td><td style = \"text-align: left;\">0.0</td><td style = \"text-align: left;\">D00040</td><td style = \"text-align: left;\">true</td><td style = \"text-align: left;\">AuROC</td><td style = \"text-align: right;\">0.958333</td></tr><tr><td class = \"rowNumber\" style = \"font-weight: bold; text-align: right;\">2</td><td style = \"text-align: left;\">0.0</td><td style = \"text-align: left;\">D00066</td><td style = \"text-align: left;\">true</td><td style = \"text-align: left;\">AuROC</td><td style = \"text-align: right;\">1.0</td></tr><tr><td class = \"rowNumber\" style = \"font-weight: bold; text-align: right;\">3</td><td style = \"text-align: left;\">0.0</td><td style = \"text-align: left;\">D00067</td><td style = \"text-align: left;\">true</td><td style = \"text-align: left;\">AuROC</td><td style = \"text-align: right;\">1.0</td></tr><tr><td class = \"rowNumber\" style = \"font-weight: bold; text-align: right;\">4</td><td style = \"text-align: left;\">0.0</td><td style = \"text-align: left;\">D00075</td><td style = \"text-align: left;\">true</td><td style = \"text-align: left;\">AuROC</td><td style = \"text-align: right;\">0.958333</td></tr><tr><td class = \"rowNumber\" style = \"font-weight: bold; text-align: right;\">5</td><td style = \"text-align: left;\">0.0</td><td style = \"text-align: left;\">D00088</td><td style = \"text-align: left;\">true</td><td style = \"text-align: left;\">AuROC</td><td style = \"text-align: right;\">0.958333</td></tr><tr><td class = \"rowNumber\" style = \"font-weight: bold; text-align: right;\">6</td><td style = \"text-align: left;\">0.0</td><td style = \"text-align: left;\">D00094</td><td style = \"text-align: left;\">true</td><td style = \"text-align: left;\">AuROC</td><td style = \"text-align: right;\">1.0</td></tr><tr><td class = \"rowNumber\" style = \"font-weight: bold; text-align: right;\">7</td><td style = \"text-align: left;\">0.0</td><td style = \"text-align: left;\">D00105</td><td style = \"text-align: left;\">true</td><td style = \"text-align: left;\">AuROC</td><td style = \"text-align: right;\">1.0</td></tr><tr><td class = \"rowNumber\" style = \"font-weight: bold; text-align: right;\">8</td><td style = \"text-align: left;\">0.0</td><td style = \"text-align: left;\">D00129</td><td style = \"text-align: left;\">true</td><td style = \"text-align: left;\">AuROC</td><td style = \"text-align: right;\">1.0</td></tr><tr><td class = \"rowNumber\" style = \"font-weight: bold; text-align: right;\">9</td><td style = \"text-align: left;\">0.0</td><td style = \"text-align: left;\">D00143</td><td style = \"text-align: left;\">true</td><td style = \"text-align: left;\">AuROC</td><td style = \"text-align: right;\">0.958333</td></tr><tr><td class = \"rowNumber\" style = \"font-weight: bold; text-align: right;\">10</td><td style = \"text-align: left;\">0.0</td><td style = \"text-align: left;\">D00163</td><td style = \"text-align: left;\">true</td><td style = \"text-align: left;\">AuROC</td><td style = \"text-align: right;\">0.958333</td></tr><tr><td class = \"rowNumber\" style = \"font-weight: bold; text-align: right;\">11</td><td style = \"text-align: left;\">0.0</td><td style = \"text-align: left;\">D00187</td><td style = \"text-align: left;\">true</td><td style = \"text-align: left;\">AuROC</td><td style = \"text-align: right;\">1.0</td></tr><tr><td class = \"rowNumber\" style = \"font-weight: bold; text-align: right;\">12</td><td style = \"text-align: left;\">0.0</td><td style = \"text-align: left;\">D00188</td><td style = \"text-align: left;\">true</td><td style = \"text-align: left;\">AuROC</td><td style = \"text-align: right;\">1.0</td></tr><tr><td class = \"rowNumber\" style = \"font-weight: bold; text-align: right;\">13</td><td style = \"text-align: left;\">0.0</td><td style = \"text-align: left;\">D00211</td><td style = \"text-align: left;\">true</td><td style = \"text-align: left;\">AuROC</td><td style = \"text-align: right;\">1.0</td></tr><tr><td style = \"text-align: right;\">&vellip;</td><td style = \"text-align: right;\">&vellip;</td><td style = \"text-align: right;\">&vellip;</td><td style = \"text-align: right;\">&vellip;</td><td style = \"text-align: right;\">&vellip;</td><td style = \"text-align: right;\">&vellip;</td></tr><tr><td class = \"rowNumber\" style = \"font-weight: bold; text-align: right;\">6793</td><td style = \"text-align: left;\">1.0</td><td style = \"text-align: left;\">D04066</td><td style = \"text-align: left;\">true</td><td style = \"text-align: left;\">Ratio of valid predictions</td><td style = \"text-align: right;\">0.28</td></tr><tr><td class = \"rowNumber\" style = \"font-weight: bold; text-align: right;\">6794</td><td style = \"text-align: left;\">1.0</td><td style = \"text-align: left;\">D05341</td><td style = \"text-align: left;\">true</td><td style = \"text-align: left;\">Ratio of valid predictions</td><td style = \"text-align: right;\">0.04</td></tr><tr><td class = \"rowNumber\" style = \"font-weight: bold; text-align: right;\">6795</td><td style = \"text-align: left;\">1.0</td><td style = \"text-align: left;\">D01132</td><td style = \"text-align: left;\">false</td><td style = \"text-align: left;\">Ratio of valid predictions</td><td style = \"text-align: right;\">0.0</td></tr><tr><td class = \"rowNumber\" style = \"font-weight: bold; text-align: right;\">6796</td><td style = \"text-align: left;\">1.0</td><td style = \"text-align: left;\">D02367</td><td style = \"text-align: left;\">false</td><td style = \"text-align: left;\">Ratio of valid predictions</td><td style = \"text-align: right;\">0.0</td></tr><tr><td class = \"rowNumber\" style = \"font-weight: bold; text-align: right;\">6797</td><td style = \"text-align: left;\">1.0</td><td style = \"text-align: left;\">D00627</td><td style = \"text-align: left;\">false</td><td style = \"text-align: left;\">Ratio of valid predictions</td><td style = \"text-align: right;\">0.0</td></tr><tr><td class = \"rowNumber\" style = \"font-weight: bold; text-align: right;\">6798</td><td style = \"text-align: left;\">1.0</td><td style = \"text-align: left;\">D00182</td><td style = \"text-align: left;\">false</td><td style = \"text-align: left;\">Ratio of valid predictions</td><td style = \"text-align: right;\">0.0</td></tr><tr><td class = \"rowNumber\" style = \"font-weight: bold; text-align: right;\">6799</td><td style = \"text-align: left;\">1.0</td><td style = \"text-align: left;\">D00951</td><td style = \"text-align: left;\">false</td><td style = \"text-align: left;\">Ratio of valid predictions</td><td style = \"text-align: right;\">0.0</td></tr><tr><td class = \"rowNumber\" style = \"font-weight: bold; text-align: right;\">6800</td><td style = \"text-align: left;\">1.0</td><td style = \"text-align: left;\">D01441</td><td style = \"text-align: left;\">false</td><td style = \"text-align: left;\">Ratio of valid predictions</td><td style = \"text-align: right;\">0.0</td></tr><tr><td class = \"rowNumber\" style = \"font-weight: bold; text-align: right;\">6801</td><td style = \"text-align: left;\">1.0</td><td style = \"text-align: left;\">D01387</td><td style = \"text-align: left;\">false</td><td style = \"text-align: left;\">Ratio of valid predictions</td><td style = \"text-align: right;\">0.0</td></tr><tr><td class = \"rowNumber\" style = \"font-weight: bold; text-align: right;\">6802</td><td style = \"text-align: left;\">1.0</td><td style = \"text-align: left;\">D00961</td><td style = \"text-align: left;\">false</td><td style = \"text-align: left;\">Ratio of valid predictions</td><td style = \"text-align: right;\">0.0</td></tr><tr><td class = \"rowNumber\" style = \"font-weight: bold; text-align: right;\">6803</td><td style = \"text-align: left;\">1.0</td><td style = \"text-align: left;\">D00506</td><td style = \"text-align: left;\">false</td><td style = \"text-align: left;\">Ratio of valid predictions</td><td style = \"text-align: right;\">0.0</td></tr><tr><td class = \"rowNumber\" style = \"font-weight: bold; text-align: right;\">6804</td><td style = \"text-align: left;\">1.0</td><td style = \"text-align: left;\">D01115</td><td style = \"text-align: left;\">false</td><td style = \"text-align: left;\">Ratio of valid predictions</td><td style = \"text-align: right;\">0.0</td></tr></tbody></table></div>"
      ],
      "text/latex": [
       "\\begin{tabular}{r|ccccc}\n",
       "\t& alpha & lig & train & metric & performance\\\\\n",
       "\t\\hline\n",
       "\t& Any & Any & Any & String & Float64\\\\\n",
       "\t\\hline\n",
       "\t1 & 0.0 & D00040 & 1 & AuROC & 0.958333 \\\\\n",
       "\t2 & 0.0 & D00066 & 1 & AuROC & 1.0 \\\\\n",
       "\t3 & 0.0 & D00067 & 1 & AuROC & 1.0 \\\\\n",
       "\t4 & 0.0 & D00075 & 1 & AuROC & 0.958333 \\\\\n",
       "\t5 & 0.0 & D00088 & 1 & AuROC & 0.958333 \\\\\n",
       "\t6 & 0.0 & D00094 & 1 & AuROC & 1.0 \\\\\n",
       "\t7 & 0.0 & D00105 & 1 & AuROC & 1.0 \\\\\n",
       "\t8 & 0.0 & D00129 & 1 & AuROC & 1.0 \\\\\n",
       "\t9 & 0.0 & D00143 & 1 & AuROC & 0.958333 \\\\\n",
       "\t10 & 0.0 & D00163 & 1 & AuROC & 0.958333 \\\\\n",
       "\t11 & 0.0 & D00187 & 1 & AuROC & 1.0 \\\\\n",
       "\t12 & 0.0 & D00188 & 1 & AuROC & 1.0 \\\\\n",
       "\t13 & 0.0 & D00211 & 1 & AuROC & 1.0 \\\\\n",
       "\t14 & 0.0 & D00246 & 1 & AuROC & 1.0 \\\\\n",
       "\t15 & 0.0 & D00279 & 1 & AuROC & 1.0 \\\\\n",
       "\t16 & 0.0 & D00299 & 1 & AuROC & 1.0 \\\\\n",
       "\t17 & 0.0 & D00312 & 1 & AuROC & 1.0 \\\\\n",
       "\t18 & 0.0 & D00316 & 1 & AuROC & 1.0 \\\\\n",
       "\t19 & 0.0 & D00327 & 1 & AuROC & 1.0 \\\\\n",
       "\t20 & 0.0 & D00348 & 1 & AuROC & 1.0 \\\\\n",
       "\t21 & 0.0 & D00443 & 1 & AuROC & 0.916667 \\\\\n",
       "\t22 & 0.0 & D00462 & 1 & AuROC & 1.0 \\\\\n",
       "\t23 & 0.0 & D00554 & 1 & AuROC & 1.0 \\\\\n",
       "\t24 & 0.0 & D00565 & 1 & AuROC & 1.0 \\\\\n",
       "\t25 & 0.0 & D00577 & 1 & AuROC & 1.0 \\\\\n",
       "\t26 & 0.0 & D00585 & 1 & AuROC & 0.988095 \\\\\n",
       "\t27 & 0.0 & D00586 & 1 & AuROC & 1.0 \\\\\n",
       "\t28 & 0.0 & D00596 & 1 & AuROC & 1.0 \\\\\n",
       "\t29 & 0.0 & D00690 & 1 & AuROC & 0.958333 \\\\\n",
       "\t30 & 0.0 & D00730 & 1 & AuROC & 1.0 \\\\\n",
       "\t$\\dots$ & $\\dots$ & $\\dots$ & $\\dots$ & $\\dots$ & $\\dots$ \\\\\n",
       "\\end{tabular}\n"
      ],
      "text/plain": [
       "\u001b[1m6804×5 DataFrame\u001b[0m\n",
       "\u001b[1m  Row \u001b[0m│\u001b[1m alpha \u001b[0m\u001b[1m lig    \u001b[0m\u001b[1m train \u001b[0m\u001b[1m metric                     \u001b[0m\u001b[1m performance \u001b[0m\n",
       "      │\u001b[90m Any   \u001b[0m\u001b[90m Any    \u001b[0m\u001b[90m Any   \u001b[0m\u001b[90m String                     \u001b[0m\u001b[90m Float64     \u001b[0m\n",
       "──────┼───────────────────────────────────────────────────────────────\n",
       "    1 │ 0.0    D00040  true   AuROC                          0.958333\n",
       "    2 │ 0.0    D00066  true   AuROC                          1.0\n",
       "    3 │ 0.0    D00067  true   AuROC                          1.0\n",
       "    4 │ 0.0    D00075  true   AuROC                          0.958333\n",
       "    5 │ 0.0    D00088  true   AuROC                          0.958333\n",
       "    6 │ 0.0    D00094  true   AuROC                          1.0\n",
       "    7 │ 0.0    D00105  true   AuROC                          1.0\n",
       "    8 │ 0.0    D00129  true   AuROC                          1.0\n",
       "    9 │ 0.0    D00143  true   AuROC                          0.958333\n",
       "   10 │ 0.0    D00163  true   AuROC                          0.958333\n",
       "   11 │ 0.0    D00187  true   AuROC                          1.0\n",
       "  ⋮   │   ⋮      ⋮       ⋮                ⋮                    ⋮\n",
       " 6795 │ 1.0    D01132  false  Ratio of valid predictions     0.0\n",
       " 6796 │ 1.0    D02367  false  Ratio of valid predictions     0.0\n",
       " 6797 │ 1.0    D00627  false  Ratio of valid predictions     0.0\n",
       " 6798 │ 1.0    D00182  false  Ratio of valid predictions     0.0\n",
       " 6799 │ 1.0    D00951  false  Ratio of valid predictions     0.0\n",
       " 6800 │ 1.0    D01441  false  Ratio of valid predictions     0.0\n",
       " 6801 │ 1.0    D01387  false  Ratio of valid predictions     0.0\n",
       " 6802 │ 1.0    D00961  false  Ratio of valid predictions     0.0\n",
       " 6803 │ 1.0    D00506  false  Ratio of valid predictions     0.0\n",
       " 6804 │ 1.0    D01115  false  Ratio of valid predictions     0.0\n",
       "\u001b[36m                                                     6783 rows omitted\u001b[0m"
      ]
     },
     "execution_count": 25,
     "metadata": {},
     "output_type": "execute_result"
    }
   ],
   "source": [
    "using Chain, ColorSchemes, Statistics\n",
    "\n",
    "# Initialize accumulator dataframe\n",
    "allpreds = DataFrame(alpha = [], lig = [], trg = [], yhat = [], y = [], train = [])\n",
    "\n",
    "for α in 0.0:0.05:1.0\n",
    "    # Generate meta-description from similarity measurements\n",
    "    Xtrain′ = featurize(Xtrain, α, true)\n",
    "    Xtest′ = featurize(Xtest, α, true)\n",
    "\n",
    "    # Construct feature-source-target graph for predictions\n",
    "    G = construct(ytrain, ytest, Xtrain′, Xtest′)\n",
    "    \n",
    "    # Predict interactions\n",
    "    ŷtrain = predict(G, ytrain; GPU = true)\n",
    "    ŷtest = predict(G, ytest; GPU = true)\n",
    "    \n",
    "    # Clean predictions\n",
    "    clean!(ŷtrain, first(G), ytrain)\n",
    "    clean!(ŷtest, first(G), ytest)\n",
    "    \n",
    "    # Store predictions in dataframe\n",
    "    for (st, score) in enamerate(ŷtrain)\n",
    "        if score ≠ -99.0\n",
    "        s,t = st\n",
    "        push!(allpreds, [α, s, t, score, Bool(ytrain[s, t]), true])\n",
    "        end\n",
    "    end\n",
    "\n",
    "    for (st, score) in enamerate(ŷtest)\n",
    "        if score ≠ -99.0\n",
    "        s,t = st\n",
    "        push!(allpreds, [α, s, t, score, Bool(ytest[s, t]), false])\n",
    "        end\n",
    "    end\n",
    "end\n",
    "\n",
    "# Evaluate predictions\n",
    "perf_table = @chain allpreds begin\n",
    "    # Calculate performace per ligand\n",
    "    groupby([:alpha, :lig, :train])\n",
    "    combine(\n",
    "        [:y, :yhat] => ((x,y) -> SimSpread.AuROC(Bool.(x), Float64.(y))) => \"AuROC\",\n",
    "        [:y, :yhat] => ((x,y) -> SimSpread.AuPRC(Bool.(x), Float64.(y))) => \"AuPRC\",\n",
    "        [:y, :yhat] => ((x,y) -> SimSpread.BEDROC(Bool.(x), Float64.(y))) => \"BEDROC\",\n",
    "        [:y, :yhat, :lig] => ((x,y,z) -> SimSpread.recallatL(Bool.(x), Float64.(y), String.(z))) => \"R@20\",\n",
    "        [:y, :yhat, :lig] => ((x,y,z) -> SimSpread.precisionatL(Bool.(x), Float64.(y), String.(z), 20)) => \"P@20\",\n",
    "        [:yhat] => SimSpread.validity_ratio => \"Ratio of valid predictions\",\n",
    "    )\n",
    "    # Convert widt-to-long format\n",
    "    stack(\n",
    "        Not([:alpha, :lig, :train]), \n",
    "        [:alpha, :lig, :train], \n",
    "        variable_name = \"metric\",\n",
    "        value_name = \"performance\"\n",
    "    )\n",
    "end"
   ]
  },
  {
   "cell_type": "code",
   "execution_count": 28,
   "id": "4d321a6f-eb8b-4cb8-9ba4-d7c32c0a1f72",
   "metadata": {},
   "outputs": [
    {
     "data": {
      "image/png": "[encoded data removed]",
      "text/plain": [
       "FigureGrid()"
      ]
     },
     "execution_count": 28,
     "metadata": {},
     "output_type": "execute_result"
    }
   ],
   "source": [
    "# Plot results\n",
    "plt = data(perf_table)\n",
    "plt *= expectation() * (visual(Lines, alpha = 0.25) + visual(Scatter, markersize=5, alpha = 0.25))\n",
    "plt *= mapping(\n",
    "    :alpha => \"Similarity cutoff (α)\",\n",
    "    :performance=> \"Performance (mean)\",  \n",
    ")\n",
    "plt *= mapping(\n",
    "    color = :train => renamer(true => \"Training set\", false => \"Testing set\") => \"Dataset\", \n",
    "    layout = :metric\n",
    ")\n",
    "\n",
    "draw(\n",
    "    plt; \n",
    "    axis = (width = 200, height = 200, limits=(nothing, nothing)),\n",
    ")"
   ]
  },
  {
   "cell_type": "code",
   "execution_count": null,
   "id": "6b944246-ced3-4533-abd8-da87abc0ac00",
   "metadata": {},
   "outputs": [],
   "source": []
  }
 ],
 "metadata": {
  "kernelspec": {
   "display_name": "Julia 1.9.0",
   "language": "julia",
   "name": "julia-1.9"
  },
  "language_info": {
   "file_extension": ".jl",
   "mimetype": "application/julia",
   "name": "julia",
   "version": "1.9.0"
  }
 },
 "nbformat": 4,
 "nbformat_minor": 5
}
